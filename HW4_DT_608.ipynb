{
  "nbformat": 4,
  "nbformat_minor": 0,
  "metadata": {
    "colab": {
      "provenance": [],
      "authorship_tag": "ABX9TyN/gbeJMMK5i/kcV3WWwAGG",
      "include_colab_link": true
    },
    "kernelspec": {
      "name": "python3",
      "display_name": "Python 3"
    },
    "language_info": {
      "name": "python"
    }
  },
  "cells": [
    {
      "cell_type": "markdown",
      "metadata": {
        "id": "view-in-github",
        "colab_type": "text"
      },
      "source": [
        "<a href=\"https://colab.research.google.com/github/mgino11/Visual_Analytics/blob/main/HW4_DT_608.ipynb\" target=\"_parent\"><img src=\"https://colab.research.google.com/assets/colab-badge.svg\" alt=\"Open In Colab\"/></a>"
      ]
    },
    {
      "cell_type": "markdown",
      "source": [
        "Assignment # 4\n",
        "\n",
        "This module we'll be looking at the New York City tree census. This data was provided by a volunteer driven census in 2015, and we'll be accessing it via the socrata API. The main site for the data is here, and on the upper right hand side you'll be able to see the link to the API.\n",
        "\n",
        "The data is conveniently available in json format, so we should be able to just read it directly in to Pandas:"
      ],
      "metadata": {
        "id": "m5Wu_wHp2Cm4"
      }
    },
    {
      "cell_type": "code",
      "execution_count": 54,
      "metadata": {
        "id": "cA6GEO4w1hP5"
      },
      "outputs": [],
      "source": [
        "import pandas as pd\n",
        "import numpy as np"
      ]
    },
    {
      "cell_type": "code",
      "source": [
        "url = 'https://data.cityofnewyork.us/resource/uvpi-gqnh.json'\n",
        "trees = pd.read_json(url)\n",
        "trees.head(5)"
      ],
      "metadata": {
        "colab": {
          "base_uri": "https://localhost:8080/",
          "height": 401
        },
        "id": "_S-eejx52KJ5",
        "outputId": "8ee56a98-99ad-4b5a-fd2c-f6dbbbfc153f"
      },
      "execution_count": 3,
      "outputs": [
        {
          "output_type": "execute_result",
          "data": {
            "text/plain": [
              "   tree_id  block_id created_at  tree_dbh  stump_diam curb_loc status health  \\\n",
              "0   180683    348711 2015-08-27         3           0   OnCurb  Alive   Fair   \n",
              "1   200540    315986 2015-09-03        21           0   OnCurb  Alive   Fair   \n",
              "2   204026    218365 2015-09-05         3           0   OnCurb  Alive   Good   \n",
              "3   204337    217969 2015-09-05        10           0   OnCurb  Alive   Good   \n",
              "4   189565    223043 2015-08-30        21           0   OnCurb  Alive   Good   \n",
              "\n",
              "                            spc_latin       spc_common  ...  boro_ct  \\\n",
              "0                         Acer rubrum        red maple  ...  4073900   \n",
              "1                   Quercus palustris          pin oak  ...  4097300   \n",
              "2  Gleditsia triacanthos var. inermis      honeylocust  ...  3044900   \n",
              "3  Gleditsia triacanthos var. inermis      honeylocust  ...  3044900   \n",
              "4                     Tilia americana  American linden  ...  3016500   \n",
              "\n",
              "      state   latitude  longitude         x_sp         y_sp council_district  \\\n",
              "0  New York  40.723092 -73.844215  1027431.148  202756.7687             29.0   \n",
              "1  New York  40.794111 -73.818679  1034455.701  228644.8374             19.0   \n",
              "2  New York  40.717581 -73.936608  1001822.831  200716.8913             34.0   \n",
              "3  New York  40.713537 -73.934456  1002420.358  199244.2531             34.0   \n",
              "4  New York  40.666778 -73.975979   990913.775  182202.4260             39.0   \n",
              "\n",
              "  census_tract        bin           bbl  \n",
              "0        739.0  4052307.0  4.022210e+09  \n",
              "1        973.0  4101931.0  4.044750e+09  \n",
              "2        449.0  3338310.0  3.028870e+09  \n",
              "3        449.0  3338342.0  3.029250e+09  \n",
              "4        165.0  3025654.0  3.010850e+09  \n",
              "\n",
              "[5 rows x 45 columns]"
            ],
            "text/html": [
              "\n",
              "  <div id=\"df-4f9da70a-36ff-464a-a15f-f49a85ba8a82\">\n",
              "    <div class=\"colab-df-container\">\n",
              "      <div>\n",
              "<style scoped>\n",
              "    .dataframe tbody tr th:only-of-type {\n",
              "        vertical-align: middle;\n",
              "    }\n",
              "\n",
              "    .dataframe tbody tr th {\n",
              "        vertical-align: top;\n",
              "    }\n",
              "\n",
              "    .dataframe thead th {\n",
              "        text-align: right;\n",
              "    }\n",
              "</style>\n",
              "<table border=\"1\" class=\"dataframe\">\n",
              "  <thead>\n",
              "    <tr style=\"text-align: right;\">\n",
              "      <th></th>\n",
              "      <th>tree_id</th>\n",
              "      <th>block_id</th>\n",
              "      <th>created_at</th>\n",
              "      <th>tree_dbh</th>\n",
              "      <th>stump_diam</th>\n",
              "      <th>curb_loc</th>\n",
              "      <th>status</th>\n",
              "      <th>health</th>\n",
              "      <th>spc_latin</th>\n",
              "      <th>spc_common</th>\n",
              "      <th>...</th>\n",
              "      <th>boro_ct</th>\n",
              "      <th>state</th>\n",
              "      <th>latitude</th>\n",
              "      <th>longitude</th>\n",
              "      <th>x_sp</th>\n",
              "      <th>y_sp</th>\n",
              "      <th>council_district</th>\n",
              "      <th>census_tract</th>\n",
              "      <th>bin</th>\n",
              "      <th>bbl</th>\n",
              "    </tr>\n",
              "  </thead>\n",
              "  <tbody>\n",
              "    <tr>\n",
              "      <th>0</th>\n",
              "      <td>180683</td>\n",
              "      <td>348711</td>\n",
              "      <td>2015-08-27</td>\n",
              "      <td>3</td>\n",
              "      <td>0</td>\n",
              "      <td>OnCurb</td>\n",
              "      <td>Alive</td>\n",
              "      <td>Fair</td>\n",
              "      <td>Acer rubrum</td>\n",
              "      <td>red maple</td>\n",
              "      <td>...</td>\n",
              "      <td>4073900</td>\n",
              "      <td>New York</td>\n",
              "      <td>40.723092</td>\n",
              "      <td>-73.844215</td>\n",
              "      <td>1027431.148</td>\n",
              "      <td>202756.7687</td>\n",
              "      <td>29.0</td>\n",
              "      <td>739.0</td>\n",
              "      <td>4052307.0</td>\n",
              "      <td>4.022210e+09</td>\n",
              "    </tr>\n",
              "    <tr>\n",
              "      <th>1</th>\n",
              "      <td>200540</td>\n",
              "      <td>315986</td>\n",
              "      <td>2015-09-03</td>\n",
              "      <td>21</td>\n",
              "      <td>0</td>\n",
              "      <td>OnCurb</td>\n",
              "      <td>Alive</td>\n",
              "      <td>Fair</td>\n",
              "      <td>Quercus palustris</td>\n",
              "      <td>pin oak</td>\n",
              "      <td>...</td>\n",
              "      <td>4097300</td>\n",
              "      <td>New York</td>\n",
              "      <td>40.794111</td>\n",
              "      <td>-73.818679</td>\n",
              "      <td>1034455.701</td>\n",
              "      <td>228644.8374</td>\n",
              "      <td>19.0</td>\n",
              "      <td>973.0</td>\n",
              "      <td>4101931.0</td>\n",
              "      <td>4.044750e+09</td>\n",
              "    </tr>\n",
              "    <tr>\n",
              "      <th>2</th>\n",
              "      <td>204026</td>\n",
              "      <td>218365</td>\n",
              "      <td>2015-09-05</td>\n",
              "      <td>3</td>\n",
              "      <td>0</td>\n",
              "      <td>OnCurb</td>\n",
              "      <td>Alive</td>\n",
              "      <td>Good</td>\n",
              "      <td>Gleditsia triacanthos var. inermis</td>\n",
              "      <td>honeylocust</td>\n",
              "      <td>...</td>\n",
              "      <td>3044900</td>\n",
              "      <td>New York</td>\n",
              "      <td>40.717581</td>\n",
              "      <td>-73.936608</td>\n",
              "      <td>1001822.831</td>\n",
              "      <td>200716.8913</td>\n",
              "      <td>34.0</td>\n",
              "      <td>449.0</td>\n",
              "      <td>3338310.0</td>\n",
              "      <td>3.028870e+09</td>\n",
              "    </tr>\n",
              "    <tr>\n",
              "      <th>3</th>\n",
              "      <td>204337</td>\n",
              "      <td>217969</td>\n",
              "      <td>2015-09-05</td>\n",
              "      <td>10</td>\n",
              "      <td>0</td>\n",
              "      <td>OnCurb</td>\n",
              "      <td>Alive</td>\n",
              "      <td>Good</td>\n",
              "      <td>Gleditsia triacanthos var. inermis</td>\n",
              "      <td>honeylocust</td>\n",
              "      <td>...</td>\n",
              "      <td>3044900</td>\n",
              "      <td>New York</td>\n",
              "      <td>40.713537</td>\n",
              "      <td>-73.934456</td>\n",
              "      <td>1002420.358</td>\n",
              "      <td>199244.2531</td>\n",
              "      <td>34.0</td>\n",
              "      <td>449.0</td>\n",
              "      <td>3338342.0</td>\n",
              "      <td>3.029250e+09</td>\n",
              "    </tr>\n",
              "    <tr>\n",
              "      <th>4</th>\n",
              "      <td>189565</td>\n",
              "      <td>223043</td>\n",
              "      <td>2015-08-30</td>\n",
              "      <td>21</td>\n",
              "      <td>0</td>\n",
              "      <td>OnCurb</td>\n",
              "      <td>Alive</td>\n",
              "      <td>Good</td>\n",
              "      <td>Tilia americana</td>\n",
              "      <td>American linden</td>\n",
              "      <td>...</td>\n",
              "      <td>3016500</td>\n",
              "      <td>New York</td>\n",
              "      <td>40.666778</td>\n",
              "      <td>-73.975979</td>\n",
              "      <td>990913.775</td>\n",
              "      <td>182202.4260</td>\n",
              "      <td>39.0</td>\n",
              "      <td>165.0</td>\n",
              "      <td>3025654.0</td>\n",
              "      <td>3.010850e+09</td>\n",
              "    </tr>\n",
              "  </tbody>\n",
              "</table>\n",
              "<p>5 rows × 45 columns</p>\n",
              "</div>\n",
              "      <button class=\"colab-df-convert\" onclick=\"convertToInteractive('df-4f9da70a-36ff-464a-a15f-f49a85ba8a82')\"\n",
              "              title=\"Convert this dataframe to an interactive table.\"\n",
              "              style=\"display:none;\">\n",
              "        \n",
              "  <svg xmlns=\"http://www.w3.org/2000/svg\" height=\"24px\"viewBox=\"0 0 24 24\"\n",
              "       width=\"24px\">\n",
              "    <path d=\"M0 0h24v24H0V0z\" fill=\"none\"/>\n",
              "    <path d=\"M18.56 5.44l.94 2.06.94-2.06 2.06-.94-2.06-.94-.94-2.06-.94 2.06-2.06.94zm-11 1L8.5 8.5l.94-2.06 2.06-.94-2.06-.94L8.5 2.5l-.94 2.06-2.06.94zm10 10l.94 2.06.94-2.06 2.06-.94-2.06-.94-.94-2.06-.94 2.06-2.06.94z\"/><path d=\"M17.41 7.96l-1.37-1.37c-.4-.4-.92-.59-1.43-.59-.52 0-1.04.2-1.43.59L10.3 9.45l-7.72 7.72c-.78.78-.78 2.05 0 2.83L4 21.41c.39.39.9.59 1.41.59.51 0 1.02-.2 1.41-.59l7.78-7.78 2.81-2.81c.8-.78.8-2.07 0-2.86zM5.41 20L4 18.59l7.72-7.72 1.47 1.35L5.41 20z\"/>\n",
              "  </svg>\n",
              "      </button>\n",
              "      \n",
              "  <style>\n",
              "    .colab-df-container {\n",
              "      display:flex;\n",
              "      flex-wrap:wrap;\n",
              "      gap: 12px;\n",
              "    }\n",
              "\n",
              "    .colab-df-convert {\n",
              "      background-color: #E8F0FE;\n",
              "      border: none;\n",
              "      border-radius: 50%;\n",
              "      cursor: pointer;\n",
              "      display: none;\n",
              "      fill: #1967D2;\n",
              "      height: 32px;\n",
              "      padding: 0 0 0 0;\n",
              "      width: 32px;\n",
              "    }\n",
              "\n",
              "    .colab-df-convert:hover {\n",
              "      background-color: #E2EBFA;\n",
              "      box-shadow: 0px 1px 2px rgba(60, 64, 67, 0.3), 0px 1px 3px 1px rgba(60, 64, 67, 0.15);\n",
              "      fill: #174EA6;\n",
              "    }\n",
              "\n",
              "    [theme=dark] .colab-df-convert {\n",
              "      background-color: #3B4455;\n",
              "      fill: #D2E3FC;\n",
              "    }\n",
              "\n",
              "    [theme=dark] .colab-df-convert:hover {\n",
              "      background-color: #434B5C;\n",
              "      box-shadow: 0px 1px 3px 1px rgba(0, 0, 0, 0.15);\n",
              "      filter: drop-shadow(0px 1px 2px rgba(0, 0, 0, 0.3));\n",
              "      fill: #FFFFFF;\n",
              "    }\n",
              "  </style>\n",
              "\n",
              "      <script>\n",
              "        const buttonEl =\n",
              "          document.querySelector('#df-4f9da70a-36ff-464a-a15f-f49a85ba8a82 button.colab-df-convert');\n",
              "        buttonEl.style.display =\n",
              "          google.colab.kernel.accessAllowed ? 'block' : 'none';\n",
              "\n",
              "        async function convertToInteractive(key) {\n",
              "          const element = document.querySelector('#df-4f9da70a-36ff-464a-a15f-f49a85ba8a82');\n",
              "          const dataTable =\n",
              "            await google.colab.kernel.invokeFunction('convertToInteractive',\n",
              "                                                     [key], {});\n",
              "          if (!dataTable) return;\n",
              "\n",
              "          const docLinkHtml = 'Like what you see? Visit the ' +\n",
              "            '<a target=\"_blank\" href=https://colab.research.google.com/notebooks/data_table.ipynb>data table notebook</a>'\n",
              "            + ' to learn more about interactive tables.';\n",
              "          element.innerHTML = '';\n",
              "          dataTable['output_type'] = 'display_data';\n",
              "          await google.colab.output.renderOutput(dataTable, element);\n",
              "          const docLink = document.createElement('div');\n",
              "          docLink.innerHTML = docLinkHtml;\n",
              "          element.appendChild(docLink);\n",
              "        }\n",
              "      </script>\n",
              "    </div>\n",
              "  </div>\n",
              "  "
            ]
          },
          "metadata": {},
          "execution_count": 3
        }
      ]
    },
    {
      "cell_type": "markdown",
      "source": [
        "Build a dash app for an arborist studying the health of various tree species ( sps_common) accross each borough\n",
        "\n",
        "Questions to be answered by the arborist\n",
        "What proportion of trees are in good , fair or poor health according to the \n",
        "\n",
        "1.   What proportion of trees are in good , fair or poor health according to the health variable\n",
        "2.   Are stewerdas having impact on the health of trees? ( use steward)\n",
        "\n"
      ],
      "metadata": {
        "id": "Cm49g9n-4CCH"
      }
    },
    {
      "cell_type": "code",
      "source": [
        "from jupyter_dash import JupyterDash\n",
        "import dash_core_components as dcc\n",
        "import dash_html_components as html\n",
        "from dash.dependencies import Input, Output\n",
        "from dash.exceptions import  PreventUpdate\n"
      ],
      "metadata": {
        "id": "0UKouZO34qNG"
      },
      "execution_count": 74,
      "outputs": []
    },
    {
      "cell_type": "code",
      "source": [
        "import plotly.offline as py\n",
        "import plotly.graph_objs as go\n",
        "from plotly import tools\n",
        "import plotly.express as px"
      ],
      "metadata": {
        "id": "uluM0lavT_tF"
      },
      "execution_count": 75,
      "outputs": []
    },
    {
      "cell_type": "code",
      "source": [
        "external_stylesheets = ['https://codepen.io/chriddyp/pen/bWLwgP.css']"
      ],
      "metadata": {
        "id": "oNDm18n95RCb"
      },
      "execution_count": 76,
      "outputs": []
    },
    {
      "cell_type": "code",
      "source": [
        "soql_health = ('https://data.cityofnewyork.us/resource/nwxe-4ae8.json?' +\\\n",
        "         '$select=health,boroname,spc_common,count(tree_id) as count' +\\\n",
        "         '&$group=health,boroname,spc_common').replace(' ', '%20')"
      ],
      "metadata": {
        "id": "9I9rs-g75fgw"
      },
      "execution_count": 110,
      "outputs": []
    },
    {
      "cell_type": "code",
      "source": [
        "soql_health = pd.read_json(soql_health)"
      ],
      "metadata": {
        "id": "pKh8U04qOvXO"
      },
      "execution_count": 112,
      "outputs": []
    },
    {
      "cell_type": "code",
      "source": [
        "soql_health = soql_health.dropna()\n",
        "print(soql_health)"
      ],
      "metadata": {
        "colab": {
          "base_uri": "https://localhost:8080/"
        },
        "id": "9l4jq8mJQJXd",
        "outputId": "b848557c-68db-45e7-ea75-f075e46a6614"
      },
      "execution_count": 113,
      "outputs": [
        {
          "output_type": "stream",
          "name": "stdout",
          "text": [
            "    health   boroname             spc_common  count\n",
            "0     Fair      Bronx         American beech      7\n",
            "1     Fair      Bronx           American elm    248\n",
            "2     Fair      Bronx   American hophornbeam     28\n",
            "3     Fair      Bronx      American hornbeam     61\n",
            "4     Fair      Bronx         American larch      3\n",
            "..     ...        ...                    ...    ...\n",
            "995   Good  Manhattan           tulip-poplar     17\n",
            "996   Good  Manhattan       Turkish hazelnut      7\n",
            "997   Good  Manhattan  two-winged silverbell      5\n",
            "998   Good  Manhattan          Virginia pine      2\n",
            "999   Good  Manhattan         weeping willow      8\n",
            "\n",
            "[999 rows x 4 columns]\n"
          ]
        }
      ]
    },
    {
      "cell_type": "code",
      "source": [
        "soql_health_bx = soql_health.query('boroname == \"Bronx\"')\n",
        "soql_health_br = soql_health.query('boroname == \"Brooklyn\"')\n",
        "soql_health_qu = soql_health.query('boroname == \"Queens\"')\n",
        "soql_health_mn = soql_health.query('boroname == \"Manhattan\"')\n",
        "soql_health_si = soql_health.query('boroname == \"Staten Island\"')"
      ],
      "metadata": {
        "id": "oef-NPk8QY68"
      },
      "execution_count": 81,
      "outputs": []
    },
    {
      "cell_type": "code",
      "source": [
        "soql_health_steward = ('https://data.cityofnewyork.us/resource/nwxe-4ae8.json?' +\\\n",
        "         '$select=health,boroname,steward,spc_common,count(tree_id) as count' +\\\n",
        "        '&$group=health,boroname,steward,spc_common').replace(' ', '%20')"
      ],
      "metadata": {
        "id": "sbOJWcAFQjIk"
      },
      "execution_count": 116,
      "outputs": []
    },
    {
      "cell_type": "code",
      "source": [
        "soql_health_steward = pd.read_json(soql_health_steward)"
      ],
      "metadata": {
        "id": "cxHCI4LLQ2UM"
      },
      "execution_count": 117,
      "outputs": []
    },
    {
      "cell_type": "code",
      "source": [
        "soql_health_steward = soql_health_steward.dropna()\n",
        "#print(soql_health_steward)"
      ],
      "metadata": {
        "id": "AndZbedWQ93j"
      },
      "execution_count": 118,
      "outputs": []
    },
    {
      "cell_type": "code",
      "source": [
        "soql_health_steward_bx = soql_health_steward.query('boroname == \"Bronx\"')\n",
        "soql_health_steward_br = soql_health_steward.query('boroname == \"Brooklyn\"')\n",
        "soql_health_steward_qu = soql_health_steward.query('boroname == \"Queens\"')\n",
        "soql_health_steward_mn = soql_health_steward.query('boroname == \"Manhattan\"')\n",
        "soql_health_steward_si = soql_health_steward.query('boroname == \"Staten Island\"')"
      ],
      "metadata": {
        "id": "gZtoc0o4RMCF"
      },
      "execution_count": 85,
      "outputs": []
    },
    {
      "cell_type": "markdown",
      "source": [
        "# URL"
      ],
      "metadata": {
        "id": "yaNelXDrfapn"
      }
    },
    {
      "cell_type": "code",
      "source": [
        "soql_url = ('https://data.cityofnewyork.us/resource/nwxe-4ae8.json?$select=distinct spc_common&$order=spc_common').replace(' ','%20')\n",
        "soql_trees = pd.read_json(soql_url).dropna()\n",
        "\n",
        "soql_url = ('https://data.cityofnewyork.us/resource/nwxe-4ae8.json?$select=distinct%20boroname&$order=boroname').replace(' ', '%20')\n",
        "soql_boros = pd.read_json(soql_url).dropna()\n"
      ],
      "metadata": {
        "id": "5OAAo1K1fDDW"
      },
      "execution_count": 97,
      "outputs": []
    },
    {
      "cell_type": "markdown",
      "source": [
        "# App Layout"
      ],
      "metadata": {
        "id": "iewthNGMRgPN"
      }
    },
    {
      "cell_type": "code",
      "source": [
        "app = JupyterDash('HW4', external_stylesheets=external_stylesheets)"
      ],
      "metadata": {
        "id": "2Nxrpcpl5YFj"
      },
      "execution_count": 77,
      "outputs": []
    },
    {
      "cell_type": "code",
      "source": [
        "app.layout = html.Div([\n",
        "    html.Label('Tree Species'),\n",
        "    dcc.Dropdown(\n",
        "        id='spc',\n",
        "        options=[\n",
        "            {'label': s, 'value': s} for s in soql_trees['spc_common']\n",
        "        ]\n",
        "    ),\n",
        "    html.Label('Borough'),\n",
        "    dcc.Dropdown(\n",
        "        id='bor',\n",
        "        options=[\n",
        "            {'label': s, 'value': s} for s in soql_boros['boroname']\n",
        "        ]\n",
        "    ),\n",
        "    html.Div(id='my-div'),\n",
        "    dcc.Checklist(\n",
        "        id='stw',\n",
        "        options=[{'label': 'Steward', 'value': 'Y'}]\n",
        "    ),\n",
        "    dcc.Graph(id='graph-1')\n",
        "])\n"
      ],
      "metadata": {
        "id": "7OQE7TRVaF2H"
      },
      "execution_count": 98,
      "outputs": []
    },
    {
      "cell_type": "markdown",
      "source": [
        "# app callback\n"
      ],
      "metadata": {
        "id": "ylnt-UrsbKHk"
      }
    },
    {
      "cell_type": "code",
      "source": [
        "import plotly.express as px\n",
        "import plotly.graph_objects as go\n",
        "from dash import callback as ctx"
      ],
      "metadata": {
        "id": "oP2ptWOgh0nk"
      },
      "execution_count": 109,
      "outputs": []
    },
    {
      "cell_type": "code",
      "source": [],
      "metadata": {
        "id": "-OaXy4aeitFm"
      },
      "execution_count": null,
      "outputs": []
    },
    {
      "cell_type": "code",
      "source": [
        "@app.callback(\n",
        "    Output(component_id='my-div', component_property='children'),\n",
        "    [Input(component_id='spc', component_property='value'),\n",
        "     Input(component_id='bor', component_property='value')],\n",
        "     prevent_initial_call=True\n",
        ")\n",
        "def update_output_div(tree_spc, boroname):\n",
        "    if (tree_spc and boroname):\n",
        "        return 'You\\'ve selected \"{}\" in {}'.format(tree_spc, boroname)\n",
        "    else:\n",
        "        return 'Please complete selection'\n",
        "\n",
        "@app.callback(\n",
        "    Output(component_id='graph-1', component_property='figure'),\n",
        "    [Input(component_id='spc', component_property='value'),\n",
        "     Input(component_id='bor', component_property='value'),\n",
        "     Input(component_id='stw', component_property='value')],\n",
        "     prevent_initial_call=True\n",
        ")\n",
        "def update_output_graph_1(tree_spc, boroname, steward):\n",
        "    triggered_id = ctx.triggered_id\n",
        "    print(triggered_id)\n",
        "    if triggered_id == 'tree_spc' and 'boroname' and 'steward':\n",
        "        return get_figure_by_steward_graph_1(tree_spc, boroname)\n",
        "    elif triggered_id == 'tree_spc' and 'boroname':\n",
        "        soql_url = (\"https://data.cityofnewyork.us/resource/uvpi-gqnh.json?\" +\\\n",
        "            \"$select=health,count(spc_common)&\" +\\\n",
        "            \"$where=health is not null and spc_common='{0}' and boroname='{1}'&\" +\\\n",
        "            \"$group=health\").format(tree_spc, boroname).replace(' ', '%20')\n",
        "        df = pd.read_json(soql_url)\n",
        "        sum_spc = sum(df['count_spc_common'])\n",
        "        return {\n",
        "            'data': [\n",
        "                {'x': df['health'], 'y': df['count_spc_common'], 'type': 'bar', 'name': 'None'},\n",
        "            ],\n",
        "            'layout': {\n",
        "                'title': 'Proportions by Health of %d \"%s\" Trees in %s' % (sum_spc, tree_spc, boroname)\n",
        "            }\n",
        "        }\n",
        "    else:\n",
        "        raise PreventUpdate\n",
        "        \n",
        "def get_figure_by_steward_graph_1(tree_spc, boroname):\n",
        "    soql_url = (\"https://data.cityofnewyork.us/resource/uvpi-gqnh.json?\" +\\\n",
        "            \"$select=steward,health,count(steward)&\" +\\\n",
        "            \"$where=health is not null and steward is not null and spc_common='{0}' and boroname='{1}'&\" +\\\n",
        "            \"$group=steward,health\").format(tree_spc, boroname).replace(' ', '%20')\n",
        "    df = pd.read_json(soql_url)\n",
        "    sum_spc = sum(df['count_steward'])\n",
        "    lst = list()\n",
        "    for s in df['steward'].unique():\n",
        "        lst.append({'x': df[df['steward'] == s]['health'], 'y': df[df['steward'] == s]['count_steward'], 'type': 'bar', 'name': 'Steward: %s' % s})\n",
        "    return {\n",
        "            'data': lst,\n",
        "            'layout': {\n",
        "                'barmode': 'stack',\n",
        "                'title': 'Proportions by Health of %d \"%s\" Trees in %s' % (sum_spc, tree_spc, boroname)\n",
        "            }\n",
        "        }"
      ],
      "metadata": {
        "id": "HlSkDf-ZbRcR"
      },
      "execution_count": 105,
      "outputs": []
    },
    {
      "cell_type": "code",
      "source": [
        "\n",
        "    app.run_server(mode=\"external\")"
      ],
      "metadata": {
        "colab": {
          "base_uri": "https://localhost:8080/",
          "height": 52
        },
        "id": "zFQLUALm6-Ni",
        "outputId": "ee5e2842-afe2-4b52-ba72-223bcec70aa2"
      },
      "execution_count": 107,
      "outputs": [
        {
          "output_type": "stream",
          "name": "stdout",
          "text": [
            "Dash app running on:\n"
          ]
        },
        {
          "output_type": "display_data",
          "data": {
            "text/plain": [
              "<IPython.core.display.Javascript object>"
            ],
            "application/javascript": [
              "(async (port, path, text, element) => {\n",
              "    if (!google.colab.kernel.accessAllowed) {\n",
              "      return;\n",
              "    }\n",
              "    element.appendChild(document.createTextNode(''));\n",
              "    const url = await google.colab.kernel.proxyPort(port);\n",
              "    const anchor = document.createElement('a');\n",
              "    anchor.href = new URL(path, url).toString();\n",
              "    anchor.target = '_blank';\n",
              "    anchor.setAttribute('data-href', url + path);\n",
              "    anchor.textContent = text;\n",
              "    element.appendChild(anchor);\n",
              "  })(8050, \"/\", \"http://127.0.0.1:8050/\", window.element)"
            ]
          },
          "metadata": {}
        }
      ]
    },
    {
      "cell_type": "code",
      "source": [
        "fig = px.bar(soql_health, x=\"spc_common\", y=\"count\",color=\"health\")\n",
        "fig.show()"
      ],
      "metadata": {
        "colab": {
          "base_uri": "https://localhost:8080/",
          "height": 542
        },
        "id": "z49Xqz_Ts_ec",
        "outputId": "e23d248e-98b5-487c-ffd8-6cbf80e67047"
      },
      "execution_count": 114,
      "outputs": [
        {
          "output_type": "display_data",
          "data": {
            "text/html": [
              "<html>\n",
              "<head><meta charset=\"utf-8\" /></head>\n",
              "<body>\n",
              "    <div>            <script src=\"https://cdnjs.cloudflare.com/ajax/libs/mathjax/2.7.5/MathJax.js?config=TeX-AMS-MML_SVG\"></script><script type=\"text/javascript\">if (window.MathJax) {MathJax.Hub.Config({SVG: {font: \"STIX-Web\"}});}</script>                <script type=\"text/javascript\">window.PlotlyConfig = {MathJaxConfig: 'local'};</script>\n",
              "        <script src=\"https://cdn.plot.ly/plotly-2.8.3.min.js\"></script>                <div id=\"54eb5715-c734-40d2-8301-3792886176f7\" class=\"plotly-graph-div\" style=\"height:525px; width:100%;\"></div>            <script type=\"text/javascript\">                                    window.PLOTLYENV=window.PLOTLYENV || {};                                    if (document.getElementById(\"54eb5715-c734-40d2-8301-3792886176f7\")) {                    Plotly.newPlot(                        \"54eb5715-c734-40d2-8301-3792886176f7\",                        [{\"alignmentgroup\":\"True\",\"hovertemplate\":\"health=Fair<br>spc_common=%{x}<br>count=%{y}<extra></extra>\",\"legendgroup\":\"Fair\",\"marker\":{\"color\":\"#636efa\",\"pattern\":{\"shape\":\"\"}},\"name\":\"Fair\",\"offsetgroup\":\"Fair\",\"orientation\":\"v\",\"showlegend\":true,\"textposition\":\"auto\",\"x\":[\"American beech\",\"American elm\",\"American hophornbeam\",\"American hornbeam\",\"American larch\",\"American linden\",\"Amur cork tree\",\"Amur maackia\",\"Amur maple\",\"arborvitae\",\"ash\",\"Atlantic white cedar\",\"bald cypress\",\"bigtooth aspen\",\"black cherry\",\"blackgum\",\"black locust\",\"black maple\",\"black oak\",\"black walnut\",\"bur oak\",\"Callery pear\",\"catalpa\",\"cherry\",\"Chinese chestnut\",\"Chinese elm\",\"Chinese tree lilac\",\"cockspur hawthorn\",\"common hackberry\",\"Cornelian cherry\",\"crab apple\",\"crepe myrtle\",\"crimson king maple\",\"cucumber magnolia\",\"dawn redwood\",\"eastern cottonwood\",\"eastern hemlock\",\"eastern redbud\",\"eastern redcedar\",\"empress tree\",\"English oak\",\"European alder\",\"European beech\",\"European hornbeam\",\"flowering dogwood\",\"ginkgo\",\"golden raintree\",\"green ash\",\"hardy rubber tree\",\"hawthorn\",\"hedge maple\",\"holly\",\"honeylocust\",\"horse chestnut\",\"Japanese hornbeam\",\"Japanese maple\",\"Japanese snowbell\",\"Japanese tree lilac\",\"Japanese zelkova\",\"katsura tree\",\"Kentucky coffeetree\",\"Kentucky yellowwood\",\"kousa dogwood\",\"littleleaf linden\",\"London planetree\",\"magnolia\",\"maple\",\"mimosa\",\"mulberry\",\"northern red oak\",\"Norway maple\",\"Norway spruce\",\"Ohio buckeye\",\"Oklahoma redbud\",\"Osage-orange\",\"pagoda dogwood\",\"paperbark maple\",\"paper birch\",\"Persian ironwood\",\"pignut hickory\",\"pine\",\"pin oak\",\"pond cypress\",\"purple-leaf plum\",\"quaking aspen\",\"red horse chestnut\",\"red maple\",\"red pine\",\"river birch\",\"sassafras\",\"sawtooth oak\",\"scarlet oak\",\"'Schubert' chokecherry\",\"Schumard's oak\",\"serviceberry\",\"Shantung maple\",\"shingle oak\",\"Siberian elm\",\"silver birch\",\"silver linden\",\"silver maple\",\"smoketree\",\"Sophora\",\"southern magnolia\",\"spruce\",\"sugar maple\",\"swamp white oak\",\"sweetgum\",\"sycamore maple\",\"tartar maple\",\"tree of heaven\",\"tulip-poplar\",\"Turkish hazelnut\",\"two-winged silverbell\",\"weeping willow\",\"white ash\",\"white oak\",\"white pine\",\"willow oak\",\"American beech\",\"American elm\",\"American hophornbeam\",\"American hornbeam\",\"American linden\",\"Amur cork tree\",\"Amur maackia\",\"Amur maple\",\"arborvitae\",\"ash\",\"Atlantic white cedar\",\"Atlas cedar\",\"bald cypress\",\"bigtooth aspen\",\"black cherry\",\"blackgum\",\"black locust\",\"black maple\",\"black oak\",\"black pine\",\"black walnut\",\"blue spruce\",\"boxelder\",\"bur oak\",\"Callery pear\",\"catalpa\",\"cherry\",\"Chinese chestnut\",\"Chinese elm\",\"Chinese fringetree\",\"Chinese tree lilac\",\"cockspur hawthorn\",\"common hackberry\",\"Cornelian cherry\",\"crab apple\",\"crepe myrtle\",\"crimson king maple\",\"cucumber magnolia\",\"dawn redwood\",\"Douglas-fir\",\"eastern cottonwood\",\"eastern hemlock\",\"eastern redbud\",\"eastern redcedar\",\"empress tree\",\"English oak\",\"European alder\",\"European beech\",\"European hornbeam\",\"false cypress\",\"flowering dogwood\",\"ginkgo\",\"golden raintree\",\"green ash\",\"hardy rubber tree\",\"hawthorn\",\"hedge maple\",\"Himalayan cedar\",\"holly\",\"honeylocust\",\"horse chestnut\",\"Japanese hornbeam\",\"Japanese maple\",\"Japanese snowbell\",\"Japanese tree lilac\",\"Japanese zelkova\",\"katsura tree\",\"Kentucky coffeetree\",\"Kentucky yellowwood\",\"kousa dogwood\",\"littleleaf linden\",\"London planetree\",\"magnolia\",\"maple\",\"mimosa\",\"mulberry\",\"northern red oak\",\"Norway maple\",\"Norway spruce\",\"Ohio buckeye\",\"Oklahoma redbud\",\"pagoda dogwood\",\"paperbark maple\",\"paper birch\",\"Persian ironwood\",\"pignut hickory\",\"pine\",\"pin oak\",\"pond cypress\",\"purple-leaf plum\",\"quaking aspen\",\"red horse chestnut\",\"red maple\",\"red pine\",\"river birch\",\"sassafras\",\"sawtooth oak\",\"scarlet oak\",\"'Schubert' chokecherry\",\"Schumard's oak\",\"Scots pine\",\"serviceberry\",\"Shantung maple\",\"shingle oak\",\"Siberian elm\",\"silver birch\",\"silver linden\",\"silver maple\",\"smoketree\",\"Sophora\",\"southern magnolia\",\"southern red oak\",\"spruce\",\"sugar maple\",\"swamp white oak\",\"sweetgum\",\"sycamore maple\",\"tartar maple\",\"tree of heaven\",\"trident maple\",\"tulip-poplar\",\"Turkish hazelnut\",\"two-winged silverbell\",\"weeping willow\",\"white ash\",\"white oak\",\"white pine\",\"willow oak\",\"American beech\",\"American elm\",\"American hophornbeam\",\"American hornbeam\",\"American larch\",\"American linden\",\"Amur cork tree\",\"Amur maackia\",\"Amur maple\",\"ash\",\"Atlantic white cedar\",\"bald cypress\",\"bigtooth aspen\",\"black cherry\",\"blackgum\",\"black locust\",\"black maple\",\"black oak\",\"black walnut\",\"boxelder\",\"bur oak\",\"Callery pear\",\"catalpa\",\"cherry\",\"Chinese chestnut\",\"Chinese elm\",\"Chinese fringetree\",\"Chinese tree lilac\",\"cockspur hawthorn\",\"common hackberry\",\"Cornelian cherry\",\"crab apple\",\"crimson king maple\",\"cucumber magnolia\",\"dawn redwood\",\"Douglas-fir\",\"eastern cottonwood\",\"eastern redbud\",\"eastern redcedar\",\"empress tree\",\"English oak\",\"European alder\",\"European hornbeam\",\"flowering dogwood\",\"ginkgo\",\"golden raintree\",\"green ash\",\"hardy rubber tree\",\"hawthorn\",\"hedge maple\",\"Himalayan cedar\",\"holly\",\"honeylocust\",\"horse chestnut\",\"Japanese hornbeam\",\"Japanese maple\",\"Japanese snowbell\",\"Japanese tree lilac\",\"Japanese zelkova\",\"katsura tree\",\"Kentucky coffeetree\",\"Kentucky yellowwood\",\"kousa dogwood\",\"littleleaf linden\",\"London planetree\",\"magnolia\",\"maple\",\"mimosa\",\"mulberry\",\"northern red oak\",\"Norway maple\",\"Ohio buckeye\",\"Oklahoma redbud\",\"pagoda dogwood\",\"paperbark maple\",\"paper birch\",\"pignut hickory\",\"pine\",\"pin oak\",\"pond cypress\",\"purple-leaf plum\",\"quaking aspen\",\"red maple\",\"river birch\",\"sassafras\",\"sawtooth oak\",\"scarlet oak\",\"'Schubert' chokecherry\",\"Schumard's oak\",\"serviceberry\",\"shingle oak\",\"Siberian elm\",\"silver birch\",\"silver linden\",\"silver maple\",\"Sophora\",\"southern magnolia\",\"southern red oak\",\"spruce\",\"sugar maple\",\"swamp white oak\",\"sweetgum\",\"sycamore maple\",\"tartar maple\",\"tree of heaven\",\"tulip-poplar\",\"Turkish hazelnut\",\"two-winged silverbell\",\"weeping willow\",\"white ash\",\"white oak\",\"white pine\",\"willow oak\",\"American beech\",\"American elm\",\"American hophornbeam\",\"American hornbeam\",\"American larch\",\"American linden\",\"Amur cork tree\",\"Amur maackia\",\"Amur maple\",\"arborvitae\",\"ash\",\"Atlantic white cedar\",\"Atlas cedar\",\"bald cypress\",\"bigtooth aspen\",\"black cherry\",\"blackgum\",\"black locust\",\"black maple\",\"black oak\",\"black pine\",\"black walnut\",\"blue spruce\",\"boxelder\",\"bur oak\",\"Callery pear\",\"catalpa\",\"cherry\",\"Chinese chestnut\",\"Chinese elm\",\"Chinese fringetree\",\"Chinese tree lilac\",\"cockspur hawthorn\",\"common hackberry\",\"Cornelian cherry\",\"crab apple\",\"crepe myrtle\",\"crimson king maple\",\"cucumber magnolia\",\"dawn redwood\",\"Douglas-fir\",\"eastern cottonwood\",\"eastern hemlock\",\"eastern redbud\",\"eastern redcedar\",\"empress tree\",\"English oak\",\"European alder\",\"European beech\",\"European hornbeam\",\"false cypress\",\"flowering dogwood\",\"ginkgo\",\"golden raintree\",\"green ash\",\"hardy rubber tree\",\"hawthorn\",\"hedge maple\",\"Himalayan cedar\",\"holly\",\"honeylocust\",\"horse chestnut\",\"Japanese hornbeam\",\"Japanese maple\",\"Japanese snowbell\",\"Japanese tree lilac\",\"Japanese zelkova\",\"katsura tree\",\"Kentucky coffeetree\",\"Kentucky yellowwood\",\"kousa dogwood\",\"littleleaf linden\",\"London planetree\",\"magnolia\",\"maple\",\"mimosa\",\"mulberry\",\"northern red oak\",\"Norway maple\",\"Norway spruce\",\"Ohio buckeye\",\"Oklahoma redbud\",\"Osage-orange\",\"pagoda dogwood\",\"paperbark maple\",\"paper birch\",\"Persian ironwood\",\"pignut hickory\",\"pine\",\"pin oak\",\"pond cypress\",\"purple-leaf plum\",\"quaking aspen\",\"red horse chestnut\",\"red maple\",\"red pine\",\"river birch\",\"sassafras\",\"sawtooth oak\",\"scarlet oak\",\"'Schubert' chokecherry\",\"Schumard's oak\",\"Scots pine\",\"serviceberry\",\"Shantung maple\",\"shingle oak\",\"Siberian elm\",\"silver birch\",\"silver linden\",\"silver maple\",\"smoketree\",\"Sophora\",\"southern magnolia\",\"southern red oak\",\"spruce\",\"sugar maple\",\"swamp white oak\",\"sweetgum\",\"sycamore maple\",\"tartar maple\",\"tree of heaven\",\"trident maple\",\"tulip-poplar\",\"Turkish hazelnut\",\"two-winged silverbell\",\"weeping willow\",\"white ash\",\"white oak\",\"white pine\",\"willow oak\",\"American beech\",\"American elm\",\"American hophornbeam\",\"American hornbeam\",\"American linden\",\"Amur cork tree\",\"Amur maackia\",\"Amur maple\",\"arborvitae\",\"ash\",\"Atlantic white cedar\",\"bald cypress\",\"bigtooth aspen\",\"black cherry\",\"blackgum\",\"black locust\",\"black maple\",\"black oak\",\"black pine\",\"black walnut\",\"blue spruce\",\"boxelder\",\"bur oak\",\"Callery pear\",\"catalpa\",\"cherry\",\"Chinese chestnut\",\"Chinese elm\",\"Chinese fringetree\",\"Chinese tree lilac\",\"cockspur hawthorn\",\"common hackberry\",\"Cornelian cherry\",\"crab apple\",\"crepe myrtle\",\"crimson king maple\",\"cucumber magnolia\",\"dawn redwood\",\"Douglas-fir\",\"eastern cottonwood\",\"eastern hemlock\",\"eastern redbud\",\"eastern redcedar\",\"empress tree\",\"English oak\",\"European alder\",\"European hornbeam\",\"false cypress\",\"flowering dogwood\",\"ginkgo\",\"golden raintree\",\"green ash\",\"hardy rubber tree\",\"hawthorn\",\"hedge maple\",\"Himalayan cedar\",\"holly\",\"honeylocust\",\"horse chestnut\",\"Japanese hornbeam\",\"Japanese maple\",\"Japanese snowbell\",\"Japanese tree lilac\",\"Japanese zelkova\",\"katsura tree\",\"Kentucky coffeetree\",\"Kentucky yellowwood\",\"kousa dogwood\",\"littleleaf linden\",\"London planetree\",\"magnolia\",\"maple\",\"mimosa\",\"mulberry\",\"northern red oak\",\"Norway maple\",\"Norway spruce\",\"Ohio buckeye\",\"Oklahoma redbud\",\"Osage-orange\",\"pagoda dogwood\",\"paperbark maple\",\"paper birch\",\"Persian ironwood\",\"pignut hickory\",\"pine\",\"pin oak\",\"pond cypress\",\"purple-leaf plum\",\"quaking aspen\",\"red horse chestnut\",\"red maple\",\"red pine\",\"river birch\",\"sassafras\",\"sawtooth oak\",\"scarlet oak\",\"'Schubert' chokecherry\",\"Schumard's oak\",\"Scots pine\",\"serviceberry\",\"Shantung maple\",\"shingle oak\",\"Siberian elm\",\"silver birch\",\"silver linden\",\"silver maple\",\"Sophora\",\"southern magnolia\",\"southern red oak\",\"spruce\",\"sugar maple\",\"swamp white oak\",\"sweetgum\",\"sycamore maple\",\"tartar maple\",\"tree of heaven\",\"trident maple\",\"tulip-poplar\",\"Turkish hazelnut\",\"two-winged silverbell\",\"weeping willow\",\"white ash\",\"white oak\",\"white pine\",\"willow oak\"],\"xaxis\":\"x\",\"y\":[7,248,28,61,3,314,5,62,61,1,43,5,11,1,6,9,57,1,33,10,15,508,21,538,2,188,15,12,132,8,69,7,44,1,69,16,1,87,10,15,24,2,6,89,22,304,76,286,17,78,93,1,949,23,8,20,6,91,544,41,79,13,7,615,1015,14,243,3,31,221,773,18,2,12,1,5,7,13,6,1,2,679,1,95,2,2,360,1,9,4,29,41,90,36,33,2,16,35,9,89,102,2,319,3,1,69,107,69,52,6,20,11,6,7,2,21,27,3,42,18,497,71,45,550,9,104,49,4,66,16,5,90,6,20,22,91,6,69,2,9,3,2,26,1082,18,776,4,209,12,20,16,102,52,89,6,206,2,168,3,6,8,168,34,8,60,2,9,101,3,57,642,140,620,36,112,100,3,5,2363,50,23,22,22,197,1015,67,127,29,11,1310,4745,10,95,15,36,409,1906,9,4,6,9,13,23,12,3,6,1518,26,255,3,7,450,2,14,4,104,193,211,104,1,77,1,36,129,20,338,254,1,811,2,2,6,179,389,230,99,4,60,2,63,20,17,8,61,67,8,101,4,259,12,13,3,379,1,10,7,13,5,20,1,4,2,52,1,39,6,1,4,1474,5,142,6,139,1,2,1,40,5,35,2,4,46,2,2,9,7,4,42,1,27,25,982,34,150,11,29,8,1,1,2012,4,10,2,3,22,619,11,43,6,2,796,1144,10,9,4,15,266,93,7,4,8,7,10,1,2,719,6,22,1,92,5,1,48,8,40,20,3,34,18,3,117,22,713,4,1,1,13,102,50,7,4,17,10,9,3,4,8,56,1,115,8,231,34,57,2,607,20,68,130,11,130,18,4,36,8,59,12,92,3,37,13,13,10,3,35,2354,81,1357,6,119,7,20,19,82,55,229,28,574,6,67,4,12,5,210,54,16,66,5,7,59,5,125,745,171,1063,40,162,120,4,5,2680,108,16,122,29,295,779,85,100,22,19,1502,3663,34,770,2,107,305,5694,30,1,11,1,16,14,21,22,9,21,2610,2,445,3,4,953,6,28,15,37,51,290,29,1,110,2,36,69,14,334,1160,7,879,2,4,22,286,168,226,346,9,47,15,75,28,11,28,43,68,20,65,1,60,13,27,94,3,37,62,1,140,16,8,5,18,6,50,7,14,1,11,4,6,8,3351,7,635,3,36,5,15,5,38,17,64,12,311,2,45,1,12,6,120,11,5,45,4,20,1,44,107,79,480,9,89,51,4,2,568,30,5,16,5,98,234,16,44,4,12,217,938,12,616,3,29,108,696,7,1,2,1,8,3,19,5,5,2,868,1,275,1,1,1056,1,25,6,11,14,86,51,1,50,2,5,23,13,21,718,168,1,7,13,73,143,696,56,4,17,3,45,2,18,9,33,45,4,37],\"yaxis\":\"y\",\"type\":\"bar\"},{\"alignmentgroup\":\"True\",\"hovertemplate\":\"health=Good<br>spc_common=%{x}<br>count=%{y}<extra></extra>\",\"legendgroup\":\"Good\",\"marker\":{\"color\":\"#EF553B\",\"pattern\":{\"shape\":\"\"}},\"name\":\"Good\",\"offsetgroup\":\"Good\",\"orientation\":\"v\",\"showlegend\":true,\"textposition\":\"auto\",\"x\":[\"American beech\",\"American elm\",\"American hophornbeam\",\"American hornbeam\",\"American larch\",\"American linden\",\"Amur cork tree\",\"Amur maackia\",\"Amur maple\",\"arborvitae\",\"ash\",\"Atlantic white cedar\",\"Atlas cedar\",\"bald cypress\",\"bigtooth aspen\",\"black cherry\",\"blackgum\",\"black locust\",\"black maple\",\"black oak\",\"black pine\",\"black walnut\",\"blue spruce\",\"boxelder\",\"bur oak\",\"Callery pear\",\"catalpa\",\"cherry\",\"Chinese chestnut\",\"Chinese elm\",\"Chinese fringetree\",\"Chinese tree lilac\",\"cockspur hawthorn\",\"common hackberry\",\"Cornelian cherry\",\"crab apple\",\"crepe myrtle\",\"crimson king maple\",\"cucumber magnolia\",\"dawn redwood\",\"Douglas-fir\",\"eastern cottonwood\",\"eastern hemlock\",\"eastern redbud\",\"eastern redcedar\",\"empress tree\",\"English oak\",\"European alder\",\"European beech\",\"European hornbeam\",\"false cypress\",\"flowering dogwood\",\"ginkgo\",\"golden raintree\",\"green ash\",\"hardy rubber tree\",\"hawthorn\",\"hedge maple\",\"Himalayan cedar\",\"holly\",\"honeylocust\",\"horse chestnut\",\"Japanese hornbeam\",\"Japanese maple\",\"Japanese snowbell\",\"Japanese tree lilac\",\"Japanese zelkova\",\"katsura tree\",\"Kentucky coffeetree\",\"Kentucky yellowwood\",\"kousa dogwood\",\"littleleaf linden\",\"London planetree\",\"magnolia\",\"maple\",\"mimosa\",\"mulberry\",\"northern red oak\",\"Norway maple\",\"Norway spruce\",\"Ohio buckeye\",\"Oklahoma redbud\",\"Osage-orange\",\"pagoda dogwood\",\"paperbark maple\",\"paper birch\",\"Persian ironwood\",\"pignut hickory\",\"pine\",\"pin oak\",\"pitch pine\",\"pond cypress\",\"purple-leaf plum\",\"quaking aspen\",\"red horse chestnut\",\"red maple\",\"red pine\",\"river birch\",\"sassafras\",\"sawtooth oak\",\"scarlet oak\",\"'Schubert' chokecherry\",\"Schumard's oak\",\"Scots pine\",\"serviceberry\",\"Shantung maple\",\"shingle oak\",\"Siberian elm\",\"silver birch\",\"silver linden\",\"silver maple\",\"smoketree\",\"Sophora\",\"southern magnolia\",\"southern red oak\",\"spruce\",\"sugar maple\",\"swamp white oak\",\"sweetgum\",\"sycamore maple\",\"tartar maple\",\"tree of heaven\",\"trident maple\",\"tulip-poplar\",\"Turkish hazelnut\",\"two-winged silverbell\",\"Virginia pine\",\"weeping willow\",\"white ash\",\"white oak\",\"white pine\",\"willow oak\",\"American beech\",\"American elm\",\"American hophornbeam\",\"American hornbeam\",\"American larch\",\"American linden\",\"Amur cork tree\",\"Amur maackia\",\"Amur maple\",\"arborvitae\",\"ash\",\"Atlantic white cedar\",\"Atlas cedar\",\"bald cypress\",\"bigtooth aspen\",\"black cherry\",\"blackgum\",\"black locust\",\"black maple\",\"black oak\",\"black pine\",\"black walnut\",\"blue spruce\",\"boxelder\",\"bur oak\",\"Callery pear\",\"catalpa\",\"cherry\",\"Chinese chestnut\",\"Chinese elm\",\"Chinese fringetree\",\"Chinese tree lilac\",\"cockspur hawthorn\",\"common hackberry\",\"Cornelian cherry\",\"crab apple\",\"crepe myrtle\",\"crimson king maple\",\"cucumber magnolia\",\"dawn redwood\",\"Douglas-fir\",\"eastern cottonwood\",\"eastern hemlock\",\"eastern redbud\",\"eastern redcedar\",\"empress tree\",\"English oak\",\"European alder\",\"European beech\",\"European hornbeam\",\"false cypress\",\"flowering dogwood\",\"ginkgo\",\"golden raintree\",\"green ash\",\"hardy rubber tree\",\"hawthorn\",\"hedge maple\",\"Himalayan cedar\",\"holly\",\"honeylocust\",\"horse chestnut\",\"Japanese hornbeam\",\"Japanese maple\",\"Japanese snowbell\",\"Japanese tree lilac\",\"Japanese zelkova\",\"katsura tree\",\"Kentucky coffeetree\",\"Kentucky yellowwood\",\"kousa dogwood\",\"littleleaf linden\",\"London planetree\",\"magnolia\",\"maple\",\"mimosa\",\"mulberry\",\"northern red oak\",\"Norway maple\",\"Norway spruce\",\"Ohio buckeye\",\"Oklahoma redbud\",\"Osage-orange\",\"pagoda dogwood\",\"paperbark maple\",\"paper birch\",\"Persian ironwood\",\"pignut hickory\",\"pine\",\"pin oak\",\"pitch pine\",\"pond cypress\",\"purple-leaf plum\",\"quaking aspen\",\"red horse chestnut\",\"red maple\",\"red pine\",\"river birch\",\"sassafras\",\"sawtooth oak\",\"scarlet oak\",\"'Schubert' chokecherry\",\"Schumard's oak\",\"Scots pine\",\"serviceberry\",\"Shantung maple\",\"shingle oak\",\"Siberian elm\",\"silver birch\",\"silver linden\",\"silver maple\",\"smoketree\",\"Sophora\",\"southern magnolia\",\"southern red oak\",\"spruce\",\"sugar maple\",\"swamp white oak\",\"sweetgum\",\"sycamore maple\",\"tartar maple\",\"tree of heaven\",\"trident maple\",\"tulip-poplar\",\"Turkish hazelnut\",\"two-winged silverbell\",\"Virginia pine\",\"weeping willow\",\"white ash\",\"white oak\",\"white pine\",\"willow oak\",\"American beech\",\"American elm\",\"American hophornbeam\",\"American hornbeam\",\"American larch\",\"American linden\",\"Amur cork tree\",\"Amur maackia\",\"Amur maple\",\"arborvitae\",\"ash\",\"Atlantic white cedar\",\"bald cypress\",\"bigtooth aspen\",\"black cherry\",\"blackgum\",\"black locust\",\"black maple\",\"black oak\",\"black pine\",\"black walnut\",\"blue spruce\",\"bur oak\",\"Callery pear\",\"catalpa\",\"cherry\",\"Chinese chestnut\",\"Chinese elm\",\"Chinese fringetree\",\"Chinese tree lilac\",\"cockspur hawthorn\",\"common hackberry\",\"Cornelian cherry\",\"crab apple\",\"crepe myrtle\",\"crimson king maple\",\"cucumber magnolia\",\"dawn redwood\",\"eastern cottonwood\",\"eastern hemlock\",\"eastern redbud\",\"eastern redcedar\",\"empress tree\",\"English oak\",\"European beech\",\"European hornbeam\",\"flowering dogwood\",\"ginkgo\",\"golden raintree\",\"green ash\",\"hardy rubber tree\",\"hawthorn\",\"hedge maple\",\"Himalayan cedar\",\"holly\",\"honeylocust\",\"horse chestnut\",\"Japanese hornbeam\",\"Japanese maple\",\"Japanese snowbell\",\"Japanese tree lilac\",\"Japanese zelkova\",\"katsura tree\",\"Kentucky coffeetree\",\"Kentucky yellowwood\",\"kousa dogwood\",\"littleleaf linden\",\"London planetree\",\"magnolia\",\"maple\",\"mimosa\",\"mulberry\",\"northern red oak\",\"Norway maple\",\"Norway spruce\",\"Ohio buckeye\",\"Oklahoma redbud\",\"Osage-orange\",\"pagoda dogwood\",\"paperbark maple\",\"paper birch\",\"Persian ironwood\",\"pine\",\"pin oak\",\"pitch pine\",\"pond cypress\",\"purple-leaf plum\",\"quaking aspen\",\"red horse chestnut\",\"red maple\",\"red pine\",\"river birch\",\"sassafras\",\"sawtooth oak\",\"scarlet oak\",\"'Schubert' chokecherry\",\"Schumard's oak\",\"Scots pine\",\"serviceberry\",\"shingle oak\",\"Siberian elm\",\"silver birch\",\"silver linden\",\"silver maple\",\"smoketree\",\"Sophora\",\"southern magnolia\",\"southern red oak\",\"sugar maple\",\"swamp white oak\",\"sweetgum\",\"sycamore maple\",\"tartar maple\",\"tree of heaven\",\"tulip-poplar\",\"Turkish hazelnut\",\"two-winged silverbell\",\"Virginia pine\",\"weeping willow\"],\"xaxis\":\"x\",\"y\":[21,1176,148,211,9,1725,25,379,350,24,237,48,6,65,6,52,19,286,13,184,2,30,16,16,60,4336,99,3350,17,1109,29,34,38,638,154,420,33,127,16,283,8,38,5,490,144,38,196,4,7,336,12,124,2253,423,1533,81,375,671,1,9,8575,66,62,62,41,464,3962,80,352,70,34,3102,6280,44,650,13,115,1217,2342,24,2,32,2,13,28,45,23,5,16,5626,3,24,635,3,10,1726,9,42,12,330,248,456,221,2,257,7,155,349,28,550,522,1,2155,16,10,8,263,693,818,180,32,53,7,37,45,18,1,25,133,165,14,453,59,2026,273,275,8,3231,32,578,196,63,293,76,29,518,16,125,94,342,23,358,3,72,15,10,122,7796,52,4653,50,1339,40,67,56,467,183,514,56,674,42,888,27,27,24,563,248,24,482,8,31,350,31,276,4754,775,3111,322,418,458,11,29,14263,146,112,83,57,733,8426,163,1007,81,59,7099,29370,64,322,66,160,1968,4210,53,14,44,8,65,41,106,53,13,36,10531,9,60,884,17,11,1769,24,101,35,658,483,998,458,2,263,10,224,365,88,1927,1075,9,5034,22,18,24,375,2230,1738,393,11,147,10,187,63,38,2,44,264,415,26,665,15,1361,64,67,3,1020,7,46,19,5,40,7,56,3,25,7,201,9,144,3,26,4,29,5382,7,674,11,604,7,5,1,108,21,371,5,1,6,121,6,2,38,34,10,150,6,126,37,4386,318,575,47,181,12,4,23,10958,5,47,9,9,93,2773,20,296,9,10,2076,2597,94,16,8,48,820,157,2,17,5,1,7,4,32,1,1,3731,5,1,81,1,1,224,1,20,11,301,56,111,111,2,30,165,131,6,382,37,1,3554,15,6,30,549,151,14,5,82,17,7,5,2,8],\"yaxis\":\"y\",\"type\":\"bar\"}],                        {\"template\":{\"data\":{\"bar\":[{\"error_x\":{\"color\":\"#2a3f5f\"},\"error_y\":{\"color\":\"#2a3f5f\"},\"marker\":{\"line\":{\"color\":\"#E5ECF6\",\"width\":0.5},\"pattern\":{\"fillmode\":\"overlay\",\"size\":10,\"solidity\":0.2}},\"type\":\"bar\"}],\"barpolar\":[{\"marker\":{\"line\":{\"color\":\"#E5ECF6\",\"width\":0.5},\"pattern\":{\"fillmode\":\"overlay\",\"size\":10,\"solidity\":0.2}},\"type\":\"barpolar\"}],\"carpet\":[{\"aaxis\":{\"endlinecolor\":\"#2a3f5f\",\"gridcolor\":\"white\",\"linecolor\":\"white\",\"minorgridcolor\":\"white\",\"startlinecolor\":\"#2a3f5f\"},\"baxis\":{\"endlinecolor\":\"#2a3f5f\",\"gridcolor\":\"white\",\"linecolor\":\"white\",\"minorgridcolor\":\"white\",\"startlinecolor\":\"#2a3f5f\"},\"type\":\"carpet\"}],\"choropleth\":[{\"colorbar\":{\"outlinewidth\":0,\"ticks\":\"\"},\"type\":\"choropleth\"}],\"contour\":[{\"colorbar\":{\"outlinewidth\":0,\"ticks\":\"\"},\"colorscale\":[[0.0,\"#0d0887\"],[0.1111111111111111,\"#46039f\"],[0.2222222222222222,\"#7201a8\"],[0.3333333333333333,\"#9c179e\"],[0.4444444444444444,\"#bd3786\"],[0.5555555555555556,\"#d8576b\"],[0.6666666666666666,\"#ed7953\"],[0.7777777777777778,\"#fb9f3a\"],[0.8888888888888888,\"#fdca26\"],[1.0,\"#f0f921\"]],\"type\":\"contour\"}],\"contourcarpet\":[{\"colorbar\":{\"outlinewidth\":0,\"ticks\":\"\"},\"type\":\"contourcarpet\"}],\"heatmap\":[{\"colorbar\":{\"outlinewidth\":0,\"ticks\":\"\"},\"colorscale\":[[0.0,\"#0d0887\"],[0.1111111111111111,\"#46039f\"],[0.2222222222222222,\"#7201a8\"],[0.3333333333333333,\"#9c179e\"],[0.4444444444444444,\"#bd3786\"],[0.5555555555555556,\"#d8576b\"],[0.6666666666666666,\"#ed7953\"],[0.7777777777777778,\"#fb9f3a\"],[0.8888888888888888,\"#fdca26\"],[1.0,\"#f0f921\"]],\"type\":\"heatmap\"}],\"heatmapgl\":[{\"colorbar\":{\"outlinewidth\":0,\"ticks\":\"\"},\"colorscale\":[[0.0,\"#0d0887\"],[0.1111111111111111,\"#46039f\"],[0.2222222222222222,\"#7201a8\"],[0.3333333333333333,\"#9c179e\"],[0.4444444444444444,\"#bd3786\"],[0.5555555555555556,\"#d8576b\"],[0.6666666666666666,\"#ed7953\"],[0.7777777777777778,\"#fb9f3a\"],[0.8888888888888888,\"#fdca26\"],[1.0,\"#f0f921\"]],\"type\":\"heatmapgl\"}],\"histogram\":[{\"marker\":{\"pattern\":{\"fillmode\":\"overlay\",\"size\":10,\"solidity\":0.2}},\"type\":\"histogram\"}],\"histogram2d\":[{\"colorbar\":{\"outlinewidth\":0,\"ticks\":\"\"},\"colorscale\":[[0.0,\"#0d0887\"],[0.1111111111111111,\"#46039f\"],[0.2222222222222222,\"#7201a8\"],[0.3333333333333333,\"#9c179e\"],[0.4444444444444444,\"#bd3786\"],[0.5555555555555556,\"#d8576b\"],[0.6666666666666666,\"#ed7953\"],[0.7777777777777778,\"#fb9f3a\"],[0.8888888888888888,\"#fdca26\"],[1.0,\"#f0f921\"]],\"type\":\"histogram2d\"}],\"histogram2dcontour\":[{\"colorbar\":{\"outlinewidth\":0,\"ticks\":\"\"},\"colorscale\":[[0.0,\"#0d0887\"],[0.1111111111111111,\"#46039f\"],[0.2222222222222222,\"#7201a8\"],[0.3333333333333333,\"#9c179e\"],[0.4444444444444444,\"#bd3786\"],[0.5555555555555556,\"#d8576b\"],[0.6666666666666666,\"#ed7953\"],[0.7777777777777778,\"#fb9f3a\"],[0.8888888888888888,\"#fdca26\"],[1.0,\"#f0f921\"]],\"type\":\"histogram2dcontour\"}],\"mesh3d\":[{\"colorbar\":{\"outlinewidth\":0,\"ticks\":\"\"},\"type\":\"mesh3d\"}],\"parcoords\":[{\"line\":{\"colorbar\":{\"outlinewidth\":0,\"ticks\":\"\"}},\"type\":\"parcoords\"}],\"pie\":[{\"automargin\":true,\"type\":\"pie\"}],\"scatter\":[{\"marker\":{\"colorbar\":{\"outlinewidth\":0,\"ticks\":\"\"}},\"type\":\"scatter\"}],\"scatter3d\":[{\"line\":{\"colorbar\":{\"outlinewidth\":0,\"ticks\":\"\"}},\"marker\":{\"colorbar\":{\"outlinewidth\":0,\"ticks\":\"\"}},\"type\":\"scatter3d\"}],\"scattercarpet\":[{\"marker\":{\"colorbar\":{\"outlinewidth\":0,\"ticks\":\"\"}},\"type\":\"scattercarpet\"}],\"scattergeo\":[{\"marker\":{\"colorbar\":{\"outlinewidth\":0,\"ticks\":\"\"}},\"type\":\"scattergeo\"}],\"scattergl\":[{\"marker\":{\"colorbar\":{\"outlinewidth\":0,\"ticks\":\"\"}},\"type\":\"scattergl\"}],\"scattermapbox\":[{\"marker\":{\"colorbar\":{\"outlinewidth\":0,\"ticks\":\"\"}},\"type\":\"scattermapbox\"}],\"scatterpolar\":[{\"marker\":{\"colorbar\":{\"outlinewidth\":0,\"ticks\":\"\"}},\"type\":\"scatterpolar\"}],\"scatterpolargl\":[{\"marker\":{\"colorbar\":{\"outlinewidth\":0,\"ticks\":\"\"}},\"type\":\"scatterpolargl\"}],\"scatterternary\":[{\"marker\":{\"colorbar\":{\"outlinewidth\":0,\"ticks\":\"\"}},\"type\":\"scatterternary\"}],\"surface\":[{\"colorbar\":{\"outlinewidth\":0,\"ticks\":\"\"},\"colorscale\":[[0.0,\"#0d0887\"],[0.1111111111111111,\"#46039f\"],[0.2222222222222222,\"#7201a8\"],[0.3333333333333333,\"#9c179e\"],[0.4444444444444444,\"#bd3786\"],[0.5555555555555556,\"#d8576b\"],[0.6666666666666666,\"#ed7953\"],[0.7777777777777778,\"#fb9f3a\"],[0.8888888888888888,\"#fdca26\"],[1.0,\"#f0f921\"]],\"type\":\"surface\"}],\"table\":[{\"cells\":{\"fill\":{\"color\":\"#EBF0F8\"},\"line\":{\"color\":\"white\"}},\"header\":{\"fill\":{\"color\":\"#C8D4E3\"},\"line\":{\"color\":\"white\"}},\"type\":\"table\"}]},\"layout\":{\"annotationdefaults\":{\"arrowcolor\":\"#2a3f5f\",\"arrowhead\":0,\"arrowwidth\":1},\"autotypenumbers\":\"strict\",\"coloraxis\":{\"colorbar\":{\"outlinewidth\":0,\"ticks\":\"\"}},\"colorscale\":{\"diverging\":[[0,\"#8e0152\"],[0.1,\"#c51b7d\"],[0.2,\"#de77ae\"],[0.3,\"#f1b6da\"],[0.4,\"#fde0ef\"],[0.5,\"#f7f7f7\"],[0.6,\"#e6f5d0\"],[0.7,\"#b8e186\"],[0.8,\"#7fbc41\"],[0.9,\"#4d9221\"],[1,\"#276419\"]],\"sequential\":[[0.0,\"#0d0887\"],[0.1111111111111111,\"#46039f\"],[0.2222222222222222,\"#7201a8\"],[0.3333333333333333,\"#9c179e\"],[0.4444444444444444,\"#bd3786\"],[0.5555555555555556,\"#d8576b\"],[0.6666666666666666,\"#ed7953\"],[0.7777777777777778,\"#fb9f3a\"],[0.8888888888888888,\"#fdca26\"],[1.0,\"#f0f921\"]],\"sequentialminus\":[[0.0,\"#0d0887\"],[0.1111111111111111,\"#46039f\"],[0.2222222222222222,\"#7201a8\"],[0.3333333333333333,\"#9c179e\"],[0.4444444444444444,\"#bd3786\"],[0.5555555555555556,\"#d8576b\"],[0.6666666666666666,\"#ed7953\"],[0.7777777777777778,\"#fb9f3a\"],[0.8888888888888888,\"#fdca26\"],[1.0,\"#f0f921\"]]},\"colorway\":[\"#636efa\",\"#EF553B\",\"#00cc96\",\"#ab63fa\",\"#FFA15A\",\"#19d3f3\",\"#FF6692\",\"#B6E880\",\"#FF97FF\",\"#FECB52\"],\"font\":{\"color\":\"#2a3f5f\"},\"geo\":{\"bgcolor\":\"white\",\"lakecolor\":\"white\",\"landcolor\":\"#E5ECF6\",\"showlakes\":true,\"showland\":true,\"subunitcolor\":\"white\"},\"hoverlabel\":{\"align\":\"left\"},\"hovermode\":\"closest\",\"mapbox\":{\"style\":\"light\"},\"paper_bgcolor\":\"white\",\"plot_bgcolor\":\"#E5ECF6\",\"polar\":{\"angularaxis\":{\"gridcolor\":\"white\",\"linecolor\":\"white\",\"ticks\":\"\"},\"bgcolor\":\"#E5ECF6\",\"radialaxis\":{\"gridcolor\":\"white\",\"linecolor\":\"white\",\"ticks\":\"\"}},\"scene\":{\"xaxis\":{\"backgroundcolor\":\"#E5ECF6\",\"gridcolor\":\"white\",\"gridwidth\":2,\"linecolor\":\"white\",\"showbackground\":true,\"ticks\":\"\",\"zerolinecolor\":\"white\"},\"yaxis\":{\"backgroundcolor\":\"#E5ECF6\",\"gridcolor\":\"white\",\"gridwidth\":2,\"linecolor\":\"white\",\"showbackground\":true,\"ticks\":\"\",\"zerolinecolor\":\"white\"},\"zaxis\":{\"backgroundcolor\":\"#E5ECF6\",\"gridcolor\":\"white\",\"gridwidth\":2,\"linecolor\":\"white\",\"showbackground\":true,\"ticks\":\"\",\"zerolinecolor\":\"white\"}},\"shapedefaults\":{\"line\":{\"color\":\"#2a3f5f\"}},\"ternary\":{\"aaxis\":{\"gridcolor\":\"white\",\"linecolor\":\"white\",\"ticks\":\"\"},\"baxis\":{\"gridcolor\":\"white\",\"linecolor\":\"white\",\"ticks\":\"\"},\"bgcolor\":\"#E5ECF6\",\"caxis\":{\"gridcolor\":\"white\",\"linecolor\":\"white\",\"ticks\":\"\"}},\"title\":{\"x\":0.05},\"xaxis\":{\"automargin\":true,\"gridcolor\":\"white\",\"linecolor\":\"white\",\"ticks\":\"\",\"title\":{\"standoff\":15},\"zerolinecolor\":\"white\",\"zerolinewidth\":2},\"yaxis\":{\"automargin\":true,\"gridcolor\":\"white\",\"linecolor\":\"white\",\"ticks\":\"\",\"title\":{\"standoff\":15},\"zerolinecolor\":\"white\",\"zerolinewidth\":2}}},\"xaxis\":{\"anchor\":\"y\",\"domain\":[0.0,1.0],\"title\":{\"text\":\"spc_common\"}},\"yaxis\":{\"anchor\":\"x\",\"domain\":[0.0,1.0],\"title\":{\"text\":\"count\"}},\"legend\":{\"title\":{\"text\":\"health\"},\"tracegroupgap\":0},\"margin\":{\"t\":60},\"barmode\":\"relative\"},                        {\"responsive\": true}                    ).then(function(){\n",
              "                            \n",
              "var gd = document.getElementById('54eb5715-c734-40d2-8301-3792886176f7');\n",
              "var x = new MutationObserver(function (mutations, observer) {{\n",
              "        var display = window.getComputedStyle(gd).display;\n",
              "        if (!display || display === 'none') {{\n",
              "            console.log([gd, 'removed!']);\n",
              "            Plotly.purge(gd);\n",
              "            observer.disconnect();\n",
              "        }}\n",
              "}});\n",
              "\n",
              "// Listen for the removal of the full notebook cells\n",
              "var notebookContainer = gd.closest('#notebook-container');\n",
              "if (notebookContainer) {{\n",
              "    x.observe(notebookContainer, {childList: true});\n",
              "}}\n",
              "\n",
              "// Listen for the clearing of the current output cell\n",
              "var outputEl = gd.closest('.output');\n",
              "if (outputEl) {{\n",
              "    x.observe(outputEl, {childList: true});\n",
              "}}\n",
              "\n",
              "                        })                };                            </script>        </div>\n",
              "</body>\n",
              "</html>"
            ]
          },
          "metadata": {}
        }
      ]
    },
    {
      "cell_type": "code",
      "source": [
        "fig = px.bar(soql_health_steward, x=\"spc_common\", y=\"count\",color=\"steward\")\n",
        "fig.show()"
      ],
      "metadata": {
        "colab": {
          "base_uri": "https://localhost:8080/",
          "height": 542
        },
        "id": "VWTBOIofuDAE",
        "outputId": "17da2822-686b-41d1-b281-859f3868474b"
      },
      "execution_count": 119,
      "outputs": [
        {
          "output_type": "display_data",
          "data": {
            "text/html": [
              "<html>\n",
              "<head><meta charset=\"utf-8\" /></head>\n",
              "<body>\n",
              "    <div>            <script src=\"https://cdnjs.cloudflare.com/ajax/libs/mathjax/2.7.5/MathJax.js?config=TeX-AMS-MML_SVG\"></script><script type=\"text/javascript\">if (window.MathJax) {MathJax.Hub.Config({SVG: {font: \"STIX-Web\"}});}</script>                <script type=\"text/javascript\">window.PlotlyConfig = {MathJaxConfig: 'local'};</script>\n",
              "        <script src=\"https://cdn.plot.ly/plotly-2.8.3.min.js\"></script>                <div id=\"6f8cbe7c-1564-4e37-8181-706a52a57f95\" class=\"plotly-graph-div\" style=\"height:525px; width:100%;\"></div>            <script type=\"text/javascript\">                                    window.PLOTLYENV=window.PLOTLYENV || {};                                    if (document.getElementById(\"6f8cbe7c-1564-4e37-8181-706a52a57f95\")) {                    Plotly.newPlot(                        \"6f8cbe7c-1564-4e37-8181-706a52a57f95\",                        [{\"alignmentgroup\":\"True\",\"hovertemplate\":\"steward=1or2<br>spc_common=%{x}<br>count=%{y}<extra></extra>\",\"legendgroup\":\"1or2\",\"marker\":{\"color\":\"#636efa\",\"pattern\":{\"shape\":\"\"}},\"name\":\"1or2\",\"offsetgroup\":\"1or2\",\"orientation\":\"v\",\"showlegend\":true,\"textposition\":\"auto\",\"x\":[\"American beech\",\"American elm\",\"American hophornbeam\",\"American hornbeam\",\"American linden\",\"Amur cork tree\",\"Amur maackia\",\"Amur maple\",\"arborvitae\",\"ash\",\"Atlantic white cedar\",\"bald cypress\",\"blackgum\",\"black locust\",\"black oak\",\"black walnut\",\"bur oak\",\"Callery pear\",\"catalpa\",\"cherry\",\"Chinese chestnut\",\"Chinese elm\",\"Chinese tree lilac\",\"common hackberry\",\"Cornelian cherry\",\"crab apple\",\"crepe myrtle\",\"crimson king maple\",\"cucumber magnolia\",\"dawn redwood\",\"eastern cottonwood\",\"eastern hemlock\",\"eastern redbud\",\"eastern redcedar\",\"empress tree\",\"English oak\",\"European beech\",\"European hornbeam\",\"flowering dogwood\",\"ginkgo\",\"golden raintree\",\"green ash\",\"hardy rubber tree\",\"hawthorn\",\"hedge maple\",\"honeylocust\",\"horse chestnut\",\"Japanese hornbeam\",\"Japanese maple\",\"Japanese snowbell\",\"Japanese tree lilac\",\"Japanese zelkova\",\"katsura tree\",\"Kentucky coffeetree\",\"Kentucky yellowwood\",\"littleleaf linden\",\"London planetree\",\"magnolia\",\"maple\",\"mulberry\",\"northern red oak\",\"Norway maple\",\"Norway spruce\",\"Ohio buckeye\",\"Oklahoma redbud\",\"pagoda dogwood\",\"paper birch\",\"Persian ironwood\",\"pin oak\",\"purple-leaf plum\",\"red maple\",\"river birch\",\"sawtooth oak\",\"scarlet oak\",\"'Schubert' chokecherry\",\"Schumard's oak\",\"serviceberry\",\"Shantung maple\",\"shingle oak\",\"Siberian elm\",\"silver birch\",\"silver linden\",\"silver maple\",\"smoketree\",\"Sophora\",\"sugar maple\",\"swamp white oak\",\"sweetgum\",\"sycamore maple\",\"tartar maple\",\"tulip-poplar\",\"Turkish hazelnut\",\"two-winged silverbell\",\"weeping willow\",\"white oak\",\"white pine\",\"willow oak\",\"American beech\",\"American elm\",\"American hophornbeam\",\"American hornbeam\",\"American linden\",\"Amur cork tree\",\"Amur maackia\",\"Amur maple\",\"arborvitae\",\"ash\",\"Atlantic white cedar\",\"Atlas cedar\",\"bald cypress\",\"bigtooth aspen\",\"black cherry\",\"blackgum\",\"black locust\",\"black maple\",\"black oak\",\"black pine\",\"black walnut\",\"boxelder\",\"bur oak\",\"Callery pear\",\"catalpa\",\"cherry\",\"Chinese chestnut\",\"Chinese elm\",\"Chinese fringetree\",\"Chinese tree lilac\",\"cockspur hawthorn\",\"common hackberry\",\"Cornelian cherry\",\"crab apple\",\"crepe myrtle\",\"crimson king maple\",\"dawn redwood\",\"Douglas-fir\",\"eastern cottonwood\",\"eastern hemlock\",\"eastern redbud\",\"eastern redcedar\",\"empress tree\",\"English oak\",\"European beech\",\"European hornbeam\",\"false cypress\",\"flowering dogwood\",\"ginkgo\",\"golden raintree\",\"green ash\",\"hardy rubber tree\",\"hawthorn\",\"hedge maple\",\"Himalayan cedar\",\"holly\",\"honeylocust\",\"horse chestnut\",\"Japanese hornbeam\",\"Japanese maple\",\"Japanese snowbell\",\"Japanese tree lilac\",\"Japanese zelkova\",\"katsura tree\",\"Kentucky coffeetree\",\"Kentucky yellowwood\",\"kousa dogwood\",\"littleleaf linden\",\"London planetree\",\"magnolia\",\"maple\",\"mimosa\",\"mulberry\",\"northern red oak\",\"Norway maple\",\"Norway spruce\",\"Ohio buckeye\",\"Oklahoma redbud\",\"pagoda dogwood\",\"paperbark maple\",\"paper birch\",\"Persian ironwood\",\"pignut hickory\",\"pine\",\"pin oak\",\"pond cypress\",\"purple-leaf plum\",\"red horse chestnut\",\"red maple\",\"red pine\",\"river birch\",\"sassafras\",\"sawtooth oak\",\"scarlet oak\",\"'Schubert' chokecherry\",\"Schumard's oak\",\"serviceberry\",\"shingle oak\",\"Siberian elm\",\"silver birch\",\"silver linden\",\"silver maple\",\"smoketree\",\"Sophora\",\"southern magnolia\",\"spruce\",\"sugar maple\",\"swamp white oak\",\"sweetgum\",\"sycamore maple\",\"tartar maple\",\"tree of heaven\",\"tulip-poplar\",\"Turkish hazelnut\",\"two-winged silverbell\",\"weeping willow\",\"white ash\",\"white oak\",\"willow oak\",\"American beech\",\"American elm\",\"American hophornbeam\",\"American hornbeam\",\"American larch\",\"American linden\",\"Amur maackia\",\"Amur maple\",\"ash\",\"bald cypress\",\"bigtooth aspen\",\"black cherry\",\"blackgum\",\"black locust\",\"black maple\",\"black oak\",\"black walnut\",\"bur oak\",\"Callery pear\",\"catalpa\",\"cherry\",\"Chinese elm\",\"cockspur hawthorn\",\"common hackberry\",\"Cornelian cherry\",\"crab apple\",\"crimson king maple\",\"cucumber magnolia\",\"dawn redwood\",\"Douglas-fir\",\"eastern cottonwood\",\"eastern redbud\",\"eastern redcedar\",\"empress tree\",\"English oak\",\"European hornbeam\",\"flowering dogwood\",\"ginkgo\",\"golden raintree\",\"green ash\",\"hardy rubber tree\",\"hawthorn\",\"hedge maple\",\"holly\",\"honeylocust\",\"Japanese hornbeam\",\"Japanese tree lilac\",\"Japanese zelkova\",\"katsura tree\",\"Kentucky coffeetree\",\"Kentucky yellowwood\",\"kousa dogwood\",\"littleleaf linden\",\"London planetree\",\"magnolia\",\"maple\",\"mulberry\",\"northern red oak\",\"Norway maple\",\"Ohio buckeye\",\"Oklahoma redbud\",\"pagoda dogwood\",\"paperbark maple\",\"paper birch\",\"pignut hickory\",\"pine\",\"pin oak\",\"pond cypress\",\"purple-leaf plum\",\"red maple\",\"river birch\",\"sawtooth oak\",\"scarlet oak\",\"'Schubert' chokecherry\",\"Schumard's oak\",\"serviceberry\",\"shingle oak\",\"Siberian elm\",\"silver birch\",\"silver linden\",\"silver maple\",\"Sophora\",\"southern magnolia\",\"sugar maple\",\"swamp white oak\",\"sweetgum\",\"sycamore maple\",\"tartar maple\",\"tree of heaven\",\"tulip-poplar\",\"Turkish hazelnut\",\"two-winged silverbell\",\"white ash\",\"white oak\",\"white pine\",\"willow oak\",\"American beech\",\"American elm\",\"American hophornbeam\",\"American hornbeam\",\"American linden\",\"Amur cork tree\",\"Amur maackia\",\"Amur maple\",\"arborvitae\",\"ash\",\"Atlantic white cedar\",\"Atlas cedar\",\"bald cypress\",\"black cherry\",\"blackgum\",\"black locust\",\"black oak\",\"black pine\",\"black walnut\",\"blue spruce\",\"boxelder\",\"bur oak\",\"Callery pear\",\"catalpa\",\"cherry\",\"Chinese chestnut\",\"Chinese elm\",\"Chinese fringetree\",\"Chinese tree lilac\",\"cockspur hawthorn\",\"common hackberry\",\"Cornelian cherry\",\"crab apple\",\"crepe myrtle\",\"crimson king maple\",\"dawn redwood\",\"eastern cottonwood\",\"eastern hemlock\",\"eastern redbud\",\"eastern redcedar\",\"English oak\",\"European beech\",\"European hornbeam\",\"false cypress\",\"flowering dogwood\",\"ginkgo\",\"golden raintree\",\"green ash\",\"hardy rubber tree\",\"hawthorn\",\"hedge maple\",\"Himalayan cedar\",\"holly\",\"honeylocust\",\"horse chestnut\",\"Japanese hornbeam\",\"Japanese maple\",\"Japanese snowbell\",\"Japanese tree lilac\",\"Japanese zelkova\",\"katsura tree\",\"Kentucky coffeetree\",\"Kentucky yellowwood\",\"kousa dogwood\",\"littleleaf linden\",\"London planetree\",\"magnolia\",\"maple\",\"mulberry\",\"northern red oak\",\"Norway maple\",\"Norway spruce\",\"Oklahoma redbud\",\"pagoda dogwood\",\"paperbark maple\",\"paper birch\",\"Persian ironwood\",\"pignut hickory\",\"pine\",\"pin oak\",\"purple-leaf plum\",\"red maple\",\"river birch\",\"sassafras\",\"sawtooth oak\",\"scarlet oak\",\"'Schubert' chokecherry\",\"Schumard's oak\",\"serviceberry\",\"Shantung maple\",\"shingle oak\",\"Siberian elm\",\"silver birch\",\"silver linden\",\"silver maple\",\"Sophora\",\"spruce\",\"sugar maple\",\"swamp white oak\",\"sweetgum\",\"sycamore maple\",\"tartar maple\",\"tree of heaven\",\"trident maple\",\"tulip-poplar\",\"Turkish hazelnut\",\"two-winged silverbell\",\"weeping willow\",\"white ash\",\"white oak\",\"white pine\",\"willow oak\"],\"xaxis\":\"x\",\"y\":[3,64,7,18,61,1,16,9,1,5,2,5,4,7,7,3,4,93,4,159,2,39,5,23,3,13,6,3,1,15,1,1,25,1,3,6,3,27,9,67,26,21,3,16,15,202,5,3,8,2,27,91,14,28,6,128,165,2,31,6,33,76,8,1,3,1,4,3,98,34,63,2,9,13,22,6,9,1,3,7,9,23,13,1,68,6,31,19,7,2,2,2,4,1,5,1,15,10,123,29,21,152,1,41,19,2,8,5,1,36,1,6,11,26,4,17,1,3,1,10,310,6,296,1,85,5,5,2,22,25,22,4,49,63,2,2,7,59,9,2,21,5,34,1,20,184,48,120,15,29,28,3,3,649,21,14,10,6,66,293,25,50,15,5,332,866,6,19,4,5,99,340,5,2,1,3,5,14,7,2,2,327,18,89,1,130,1,6,3,24,26,76,25,25,16,23,7,89,32,1,266,1,1,59,146,96,19,2,8,14,9,9,2,5,21,32,3,85,4,6,2,173,6,4,3,10,1,2,1,20,1,14,2,3,658,1,54,47,1,14,1,13,2,1,17,2,1,5,3,2,12,16,7,356,8,64,8,17,2,1,767,5,12,211,7,17,5,2,309,469,4,5,9,93,30,5,1,3,4,3,1,1,236,2,12,45,1,23,3,23,8,1,10,12,2,63,13,254,2,4,36,15,4,3,4,3,1,3,4,20,1,47,3,58,5,25,220,1,18,29,2,15,3,1,10,6,3,18,10,1,3,3,1,15,429,9,314,1,36,2,11,13,18,20,41,10,72,25,1,1,51,15,21,3,19,2,42,165,58,141,19,42,23,3,2,600,12,4,24,11,105,192,23,45,4,3,345,457,13,68,12,42,576,5,2,6,4,8,11,1,1,404,145,137,14,3,11,21,70,4,48,1,13,11,4,75,73,212,6,38,47,51,31,3,2,5,11,9,1,4,6,22,4,19],\"yaxis\":\"y\",\"type\":\"bar\"},{\"alignmentgroup\":\"True\",\"hovertemplate\":\"steward=3or4<br>spc_common=%{x}<br>count=%{y}<extra></extra>\",\"legendgroup\":\"3or4\",\"marker\":{\"color\":\"#EF553B\",\"pattern\":{\"shape\":\"\"}},\"name\":\"3or4\",\"offsetgroup\":\"3or4\",\"orientation\":\"v\",\"showlegend\":true,\"textposition\":\"auto\",\"x\":[\"American beech\",\"American elm\",\"American hornbeam\",\"American larch\",\"American linden\",\"Amur maackia\",\"blackgum\",\"black locust\",\"Callery pear\",\"cherry\",\"Chinese elm\",\"common hackberry\",\"crab apple\",\"crimson king maple\",\"eastern redbud\",\"ginkgo\",\"golden raintree\",\"green ash\",\"hawthorn\",\"honeylocust\",\"Japanese hornbeam\",\"Japanese snowbell\",\"Japanese tree lilac\",\"Japanese zelkova\",\"katsura tree\",\"Kentucky coffeetree\",\"littleleaf linden\",\"London planetree\",\"magnolia\",\"maple\",\"mulberry\",\"northern red oak\",\"Norway maple\",\"Norway spruce\",\"pin oak\",\"purple-leaf plum\",\"red maple\",\"'Schubert' chokecherry\",\"serviceberry\",\"Siberian elm\",\"silver maple\",\"Sophora\",\"sweetgum\",\"sycamore maple\",\"white oak\",\"willow oak\",\"American elm\",\"American hornbeam\",\"American linden\",\"Amur cork tree\",\"Amur maackia\",\"Amur maple\",\"bigtooth aspen\",\"blackgum\",\"black locust\",\"black oak\",\"bur oak\",\"Callery pear\",\"cherry\",\"Chinese elm\",\"cockspur hawthorn\",\"common hackberry\",\"Cornelian cherry\",\"crab apple\",\"crimson king maple\",\"cucumber magnolia\",\"dawn redwood\",\"eastern redbud\",\"eastern redcedar\",\"empress tree\",\"English oak\",\"European alder\",\"European hornbeam\",\"flowering dogwood\",\"ginkgo\",\"golden raintree\",\"green ash\",\"hardy rubber tree\",\"hawthorn\",\"hedge maple\",\"honeylocust\",\"horse chestnut\",\"Japanese maple\",\"Japanese snowbell\",\"Japanese tree lilac\",\"Japanese zelkova\",\"Kentucky coffeetree\",\"Kentucky yellowwood\",\"kousa dogwood\",\"littleleaf linden\",\"London planetree\",\"maple\",\"mimosa\",\"northern red oak\",\"Norway maple\",\"paperbark maple\",\"paper birch\",\"pin oak\",\"pond cypress\",\"purple-leaf plum\",\"quaking aspen\",\"red maple\",\"river birch\",\"sawtooth oak\",\"'Schubert' chokecherry\",\"Schumard's oak\",\"serviceberry\",\"shingle oak\",\"Siberian elm\",\"silver linden\",\"silver maple\",\"Sophora\",\"sugar maple\",\"swamp white oak\",\"sweetgum\",\"sycamore maple\",\"tree of heaven\",\"tulip-poplar\",\"white ash\",\"white oak\",\"willow oak\",\"American elm\",\"American hophornbeam\",\"American hornbeam\",\"American linden\",\"Amur cork tree\",\"Amur maackia\",\"Amur maple\",\"bald cypress\",\"black cherry\",\"black locust\",\"black oak\",\"black walnut\",\"boxelder\",\"Callery pear\",\"catalpa\",\"cherry\",\"Chinese elm\",\"common hackberry\",\"Cornelian cherry\",\"crab apple\",\"dawn redwood\",\"English oak\",\"European hornbeam\",\"flowering dogwood\",\"ginkgo\",\"golden raintree\",\"green ash\",\"hardy rubber tree\",\"hedge maple\",\"honeylocust\",\"horse chestnut\",\"Japanese maple\",\"Japanese snowbell\",\"Japanese tree lilac\",\"Japanese zelkova\",\"katsura tree\",\"Kentucky coffeetree\",\"littleleaf linden\",\"London planetree\",\"northern red oak\",\"Norway maple\",\"pagoda dogwood\",\"paper birch\",\"pin oak\",\"purple-leaf plum\",\"red maple\",\"river birch\",\"sawtooth oak\",\"'Schubert' chokecherry\",\"Schumard's oak\",\"shingle oak\",\"silver linden\",\"Sophora\",\"sugar maple\",\"swamp white oak\",\"sweetgum\",\"tree of heaven\",\"Turkish hazelnut\",\"weeping willow\",\"white oak\",\"willow oak\",\"American elm\",\"American hophornbeam\",\"American linden\"],\"xaxis\":\"x\",\"y\":[1,3,5,1,5,2,1,1,7,7,3,2,1,1,4,2,1,2,1,3,1,1,1,5,1,1,9,3,2,3,1,7,7,3,3,3,1,1,7,1,1,5,1,1,1,2,6,4,17,1,4,1,1,2,3,5,1,59,23,13,1,3,3,4,5,1,6,2,1,1,2,1,10,3,19,2,12,4,3,3,67,1,1,1,2,28,7,1,1,36,110,2,1,14,49,1,1,44,1,5,1,13,1,6,2,1,6,1,1,9,4,24,9,53,9,4,1,2,2,7,5,22,4,2,37,1,1,3,3,1,8,2,3,1,280,1,17,13,2,1,1,2,5,2,12,166,5,17,1,4,194,1,1,2,4,71,1,3,102,125,30,11,3,3,65,1,10,3,3,2,1,8,18,94,6,6,7,1,2,1,5,14,3,1,5],\"yaxis\":\"y\",\"type\":\"bar\"},{\"alignmentgroup\":\"True\",\"hovertemplate\":\"steward=4orMore<br>spc_common=%{x}<br>count=%{y}<extra></extra>\",\"legendgroup\":\"4orMore\",\"marker\":{\"color\":\"#00cc96\",\"pattern\":{\"shape\":\"\"}},\"name\":\"4orMore\",\"offsetgroup\":\"4orMore\",\"orientation\":\"v\",\"showlegend\":true,\"textposition\":\"auto\",\"x\":[\"Callery pear\",\"Chinese tree lilac\",\"eastern redbud\",\"honeylocust\",\"Japanese zelkova\",\"Kentucky coffeetree\",\"swamp white oak\",\"American elm\",\"American hophornbeam\",\"blackgum\",\"Callery pear\",\"Chinese elm\",\"Cornelian cherry\",\"dawn redwood\",\"ginkgo\",\"golden raintree\",\"honeylocust\",\"Japanese tree lilac\",\"Japanese zelkova\",\"Kentucky coffeetree\",\"littleleaf linden\",\"London planetree\",\"Norway maple\",\"pin oak\",\"purple-leaf plum\",\"Sophora\",\"swamp white oak\",\"sweetgum\",\"sycamore maple\",\"American elm\",\"American linden\",\"black oak\",\"Callery pear\",\"cherry\",\"Chinese chestnut\",\"Chinese elm\",\"common hackberry\",\"dawn redwood\",\"flowering dogwood\",\"ginkgo\",\"green ash\",\"honeylocust\",\"Japanese zelkova\",\"littleleaf linden\",\"London planetree\",\"Norway maple\",\"Oklahoma redbud\",\"pin oak\",\"sawtooth oak\",\"silver linden\",\"Sophora\"],\"xaxis\":\"x\",\"y\":[1,1,1,1,1,1,1,1,1,1,5,2,7,1,2,1,5,1,1,2,1,13,2,5,2,2,2,1,1,3,1,1,13,4,1,1,1,1,1,11,1,13,5,9,2,1,1,2,1,1,6],\"yaxis\":\"y\",\"type\":\"bar\"},{\"alignmentgroup\":\"True\",\"hovertemplate\":\"steward=None<br>spc_common=%{x}<br>count=%{y}<extra></extra>\",\"legendgroup\":\"None\",\"marker\":{\"color\":\"#ab63fa\",\"pattern\":{\"shape\":\"\"}},\"name\":\"None\",\"offsetgroup\":\"None\",\"orientation\":\"v\",\"showlegend\":true,\"textposition\":\"auto\",\"x\":[\"American beech\",\"American elm\",\"American hophornbeam\",\"American hornbeam\",\"American larch\",\"American linden\",\"Amur cork tree\",\"Amur maackia\",\"Amur maple\",\"ash\",\"Atlantic white cedar\",\"bald cypress\",\"bigtooth aspen\",\"black cherry\",\"blackgum\",\"black locust\",\"black maple\",\"black oak\",\"black walnut\",\"bur oak\",\"Callery pear\",\"catalpa\",\"cherry\",\"Chinese elm\",\"Chinese tree lilac\",\"cockspur hawthorn\",\"common hackberry\",\"Cornelian cherry\",\"crab apple\",\"crepe myrtle\",\"crimson king maple\",\"dawn redwood\",\"eastern cottonwood\",\"eastern redbud\",\"eastern redcedar\",\"empress tree\",\"English oak\",\"European alder\",\"European beech\",\"European hornbeam\",\"flowering dogwood\",\"ginkgo\",\"golden raintree\",\"green ash\",\"hardy rubber tree\",\"hawthorn\",\"hedge maple\",\"holly\",\"honeylocust\",\"horse chestnut\",\"Japanese hornbeam\",\"Japanese maple\",\"Japanese snowbell\",\"Japanese tree lilac\",\"Japanese zelkova\",\"katsura tree\",\"Kentucky coffeetree\",\"Kentucky yellowwood\",\"kousa dogwood\",\"littleleaf linden\",\"London planetree\",\"magnolia\",\"maple\",\"mimosa\",\"mulberry\",\"northern red oak\",\"Norway maple\",\"Norway spruce\",\"Ohio buckeye\",\"Oklahoma redbud\",\"Osage-orange\",\"pagoda dogwood\",\"paperbark maple\",\"paper birch\",\"Persian ironwood\",\"pignut hickory\",\"pine\",\"pin oak\",\"pond cypress\",\"purple-leaf plum\",\"quaking aspen\",\"red horse chestnut\",\"red maple\",\"red pine\",\"river birch\",\"sassafras\",\"sawtooth oak\",\"scarlet oak\",\"'Schubert' chokecherry\",\"Schumard's oak\",\"serviceberry\",\"Shantung maple\",\"shingle oak\",\"Siberian elm\",\"silver linden\",\"silver maple\",\"smoketree\",\"Sophora\",\"southern magnolia\",\"spruce\",\"sugar maple\",\"swamp white oak\",\"sweetgum\",\"sycamore maple\",\"tartar maple\",\"tree of heaven\",\"tulip-poplar\",\"Turkish hazelnut\",\"two-winged silverbell\",\"weeping willow\",\"white ash\",\"white oak\",\"white pine\",\"willow oak\",\"American beech\",\"American elm\",\"American hophornbeam\",\"American hornbeam\",\"American linden\",\"Amur cork tree\",\"Amur maackia\",\"Amur maple\",\"arborvitae\",\"ash\",\"Atlantic white cedar\",\"Atlas cedar\",\"bald cypress\",\"bigtooth aspen\",\"black cherry\",\"blackgum\",\"black locust\",\"black maple\",\"black oak\",\"black pine\",\"black walnut\",\"blue spruce\",\"boxelder\",\"bur oak\",\"Callery pear\",\"catalpa\",\"cherry\",\"Chinese chestnut\",\"Chinese elm\",\"Chinese fringetree\",\"Chinese tree lilac\",\"cockspur hawthorn\",\"common hackberry\",\"Cornelian cherry\",\"crab apple\",\"crepe myrtle\",\"crimson king maple\",\"cucumber magnolia\",\"dawn redwood\",\"Douglas-fir\",\"eastern cottonwood\",\"eastern hemlock\",\"eastern redbud\",\"eastern redcedar\",\"empress tree\",\"English oak\",\"European alder\",\"European beech\",\"European hornbeam\",\"false cypress\",\"flowering dogwood\",\"ginkgo\",\"golden raintree\",\"green ash\",\"hardy rubber tree\",\"hawthorn\",\"hedge maple\",\"holly\",\"honeylocust\",\"horse chestnut\",\"Japanese hornbeam\",\"Japanese maple\",\"Japanese snowbell\",\"Japanese tree lilac\",\"Japanese zelkova\",\"katsura tree\",\"Kentucky coffeetree\",\"Kentucky yellowwood\",\"kousa dogwood\",\"littleleaf linden\",\"London planetree\",\"magnolia\",\"maple\",\"mimosa\",\"mulberry\",\"northern red oak\",\"Norway maple\",\"Norway spruce\",\"Ohio buckeye\",\"Oklahoma redbud\",\"pagoda dogwood\",\"paperbark maple\",\"paper birch\",\"Persian ironwood\",\"pignut hickory\",\"pine\",\"pin oak\",\"pond cypress\",\"purple-leaf plum\",\"quaking aspen\",\"red horse chestnut\",\"red maple\",\"red pine\",\"river birch\",\"sassafras\",\"sawtooth oak\",\"scarlet oak\",\"'Schubert' chokecherry\",\"Schumard's oak\",\"Scots pine\",\"serviceberry\",\"Shantung maple\",\"shingle oak\",\"Siberian elm\",\"silver birch\",\"silver linden\",\"silver maple\",\"Sophora\",\"southern magnolia\",\"southern red oak\",\"spruce\",\"sugar maple\",\"swamp white oak\",\"sweetgum\",\"sycamore maple\",\"tartar maple\",\"tree of heaven\",\"trident maple\",\"tulip-poplar\",\"Turkish hazelnut\",\"two-winged silverbell\",\"weeping willow\",\"white ash\",\"white oak\",\"white pine\",\"willow oak\",\"American beech\",\"American elm\",\"American hophornbeam\",\"American hornbeam\",\"American larch\",\"American linden\",\"Amur maackia\",\"ash\",\"Atlantic white cedar\",\"bald cypress\",\"black cherry\",\"blackgum\",\"black locust\",\"black oak\",\"black walnut\",\"bur oak\",\"Callery pear\",\"catalpa\",\"cherry\",\"Chinese chestnut\",\"Chinese elm\",\"Chinese fringetree\",\"Chinese tree lilac\",\"common hackberry\",\"Cornelian cherry\",\"crab apple\",\"cucumber magnolia\",\"dawn redwood\",\"eastern cottonwood\",\"eastern redbud\",\"eastern redcedar\",\"empress tree\",\"English oak\",\"European alder\",\"European hornbeam\",\"flowering dogwood\",\"ginkgo\",\"golden raintree\",\"green ash\",\"hardy rubber tree\",\"hawthorn\",\"hedge maple\",\"Himalayan cedar\",\"honeylocust\",\"horse chestnut\",\"Japanese hornbeam\",\"Japanese maple\",\"Japanese snowbell\",\"Japanese tree lilac\",\"Japanese zelkova\",\"katsura tree\",\"Kentucky coffeetree\",\"Kentucky yellowwood\",\"littleleaf linden\",\"London planetree\",\"magnolia\",\"maple\",\"mimosa\",\"mulberry\",\"northern red oak\",\"Norway maple\",\"Ohio buckeye\",\"Oklahoma redbud\",\"pagoda dogwood\",\"paperbark maple\",\"paper birch\",\"pine\",\"pin oak\",\"pond cypress\",\"purple-leaf plum\",\"quaking aspen\",\"red maple\",\"river birch\",\"sassafras\",\"sawtooth oak\",\"scarlet oak\",\"'Schubert' chokecherry\",\"Schumard's oak\",\"serviceberry\",\"shingle oak\",\"Siberian elm\",\"silver birch\",\"silver linden\",\"silver maple\",\"Sophora\",\"southern magnolia\",\"southern red oak\",\"spruce\",\"sugar maple\",\"swamp white oak\",\"sweetgum\",\"sycamore maple\",\"tartar maple\",\"tree of heaven\",\"tulip-poplar\",\"Turkish hazelnut\",\"weeping willow\",\"white ash\",\"white oak\",\"willow oak\"],\"xaxis\":\"x\",\"y\":[3,181,21,38,2,248,4,44,52,38,3,6,1,6,4,49,1,26,7,11,407,17,372,146,9,12,107,5,55,1,40,54,15,57,9,12,18,2,3,62,13,235,49,263,14,61,78,1,743,18,4,12,3,63,447,26,49,7,7,478,847,10,209,3,24,181,690,7,1,9,1,4,7,9,3,1,2,578,1,58,2,2,296,1,7,4,20,28,67,30,17,1,13,27,66,88,1,246,3,1,63,75,49,44,4,20,9,4,3,1,21,21,2,25,8,367,41,20,381,7,59,29,2,58,11,4,54,4,14,8,62,2,47,1,6,3,1,15,708,12,457,3,109,7,15,13,77,17,63,2,152,1,98,1,4,1,107,24,5,37,1,4,57,2,34,437,89,488,17,80,69,2,1642,28,9,11,15,128,693,42,68,13,5,941,3756,4,74,10,31,296,1515,4,2,5,6,7,8,5,1,4,1142,7,159,2,6,307,1,7,1,74,167,133,78,1,46,1,19,105,13,240,218,519,1,2,5,111,188,124,75,2,51,2,47,11,8,6,54,39,8,64,1,149,4,5,1,168,3,10,5,7,1,1,24,22,1,1,523,3,67,5,78,1,2,23,3,21,3,26,1,4,4,2,25,1,9,5,449,21,68,2,12,2,1,1038,3,5,1,1,6,332,3,23,1,376,548,6,4,4,6,143,51,2,2,2,3,4,1,416,4,9,1,37,1,1,21,5,15,11,2,16,6,1,35,9,359,2,1,1,3,60,28,3,1,12,7,6,3,4,31,54],\"yaxis\":\"y\",\"type\":\"bar\"}],                        {\"template\":{\"data\":{\"bar\":[{\"error_x\":{\"color\":\"#2a3f5f\"},\"error_y\":{\"color\":\"#2a3f5f\"},\"marker\":{\"line\":{\"color\":\"#E5ECF6\",\"width\":0.5},\"pattern\":{\"fillmode\":\"overlay\",\"size\":10,\"solidity\":0.2}},\"type\":\"bar\"}],\"barpolar\":[{\"marker\":{\"line\":{\"color\":\"#E5ECF6\",\"width\":0.5},\"pattern\":{\"fillmode\":\"overlay\",\"size\":10,\"solidity\":0.2}},\"type\":\"barpolar\"}],\"carpet\":[{\"aaxis\":{\"endlinecolor\":\"#2a3f5f\",\"gridcolor\":\"white\",\"linecolor\":\"white\",\"minorgridcolor\":\"white\",\"startlinecolor\":\"#2a3f5f\"},\"baxis\":{\"endlinecolor\":\"#2a3f5f\",\"gridcolor\":\"white\",\"linecolor\":\"white\",\"minorgridcolor\":\"white\",\"startlinecolor\":\"#2a3f5f\"},\"type\":\"carpet\"}],\"choropleth\":[{\"colorbar\":{\"outlinewidth\":0,\"ticks\":\"\"},\"type\":\"choropleth\"}],\"contour\":[{\"colorbar\":{\"outlinewidth\":0,\"ticks\":\"\"},\"colorscale\":[[0.0,\"#0d0887\"],[0.1111111111111111,\"#46039f\"],[0.2222222222222222,\"#7201a8\"],[0.3333333333333333,\"#9c179e\"],[0.4444444444444444,\"#bd3786\"],[0.5555555555555556,\"#d8576b\"],[0.6666666666666666,\"#ed7953\"],[0.7777777777777778,\"#fb9f3a\"],[0.8888888888888888,\"#fdca26\"],[1.0,\"#f0f921\"]],\"type\":\"contour\"}],\"contourcarpet\":[{\"colorbar\":{\"outlinewidth\":0,\"ticks\":\"\"},\"type\":\"contourcarpet\"}],\"heatmap\":[{\"colorbar\":{\"outlinewidth\":0,\"ticks\":\"\"},\"colorscale\":[[0.0,\"#0d0887\"],[0.1111111111111111,\"#46039f\"],[0.2222222222222222,\"#7201a8\"],[0.3333333333333333,\"#9c179e\"],[0.4444444444444444,\"#bd3786\"],[0.5555555555555556,\"#d8576b\"],[0.6666666666666666,\"#ed7953\"],[0.7777777777777778,\"#fb9f3a\"],[0.8888888888888888,\"#fdca26\"],[1.0,\"#f0f921\"]],\"type\":\"heatmap\"}],\"heatmapgl\":[{\"colorbar\":{\"outlinewidth\":0,\"ticks\":\"\"},\"colorscale\":[[0.0,\"#0d0887\"],[0.1111111111111111,\"#46039f\"],[0.2222222222222222,\"#7201a8\"],[0.3333333333333333,\"#9c179e\"],[0.4444444444444444,\"#bd3786\"],[0.5555555555555556,\"#d8576b\"],[0.6666666666666666,\"#ed7953\"],[0.7777777777777778,\"#fb9f3a\"],[0.8888888888888888,\"#fdca26\"],[1.0,\"#f0f921\"]],\"type\":\"heatmapgl\"}],\"histogram\":[{\"marker\":{\"pattern\":{\"fillmode\":\"overlay\",\"size\":10,\"solidity\":0.2}},\"type\":\"histogram\"}],\"histogram2d\":[{\"colorbar\":{\"outlinewidth\":0,\"ticks\":\"\"},\"colorscale\":[[0.0,\"#0d0887\"],[0.1111111111111111,\"#46039f\"],[0.2222222222222222,\"#7201a8\"],[0.3333333333333333,\"#9c179e\"],[0.4444444444444444,\"#bd3786\"],[0.5555555555555556,\"#d8576b\"],[0.6666666666666666,\"#ed7953\"],[0.7777777777777778,\"#fb9f3a\"],[0.8888888888888888,\"#fdca26\"],[1.0,\"#f0f921\"]],\"type\":\"histogram2d\"}],\"histogram2dcontour\":[{\"colorbar\":{\"outlinewidth\":0,\"ticks\":\"\"},\"colorscale\":[[0.0,\"#0d0887\"],[0.1111111111111111,\"#46039f\"],[0.2222222222222222,\"#7201a8\"],[0.3333333333333333,\"#9c179e\"],[0.4444444444444444,\"#bd3786\"],[0.5555555555555556,\"#d8576b\"],[0.6666666666666666,\"#ed7953\"],[0.7777777777777778,\"#fb9f3a\"],[0.8888888888888888,\"#fdca26\"],[1.0,\"#f0f921\"]],\"type\":\"histogram2dcontour\"}],\"mesh3d\":[{\"colorbar\":{\"outlinewidth\":0,\"ticks\":\"\"},\"type\":\"mesh3d\"}],\"parcoords\":[{\"line\":{\"colorbar\":{\"outlinewidth\":0,\"ticks\":\"\"}},\"type\":\"parcoords\"}],\"pie\":[{\"automargin\":true,\"type\":\"pie\"}],\"scatter\":[{\"marker\":{\"colorbar\":{\"outlinewidth\":0,\"ticks\":\"\"}},\"type\":\"scatter\"}],\"scatter3d\":[{\"line\":{\"colorbar\":{\"outlinewidth\":0,\"ticks\":\"\"}},\"marker\":{\"colorbar\":{\"outlinewidth\":0,\"ticks\":\"\"}},\"type\":\"scatter3d\"}],\"scattercarpet\":[{\"marker\":{\"colorbar\":{\"outlinewidth\":0,\"ticks\":\"\"}},\"type\":\"scattercarpet\"}],\"scattergeo\":[{\"marker\":{\"colorbar\":{\"outlinewidth\":0,\"ticks\":\"\"}},\"type\":\"scattergeo\"}],\"scattergl\":[{\"marker\":{\"colorbar\":{\"outlinewidth\":0,\"ticks\":\"\"}},\"type\":\"scattergl\"}],\"scattermapbox\":[{\"marker\":{\"colorbar\":{\"outlinewidth\":0,\"ticks\":\"\"}},\"type\":\"scattermapbox\"}],\"scatterpolar\":[{\"marker\":{\"colorbar\":{\"outlinewidth\":0,\"ticks\":\"\"}},\"type\":\"scatterpolar\"}],\"scatterpolargl\":[{\"marker\":{\"colorbar\":{\"outlinewidth\":0,\"ticks\":\"\"}},\"type\":\"scatterpolargl\"}],\"scatterternary\":[{\"marker\":{\"colorbar\":{\"outlinewidth\":0,\"ticks\":\"\"}},\"type\":\"scatterternary\"}],\"surface\":[{\"colorbar\":{\"outlinewidth\":0,\"ticks\":\"\"},\"colorscale\":[[0.0,\"#0d0887\"],[0.1111111111111111,\"#46039f\"],[0.2222222222222222,\"#7201a8\"],[0.3333333333333333,\"#9c179e\"],[0.4444444444444444,\"#bd3786\"],[0.5555555555555556,\"#d8576b\"],[0.6666666666666666,\"#ed7953\"],[0.7777777777777778,\"#fb9f3a\"],[0.8888888888888888,\"#fdca26\"],[1.0,\"#f0f921\"]],\"type\":\"surface\"}],\"table\":[{\"cells\":{\"fill\":{\"color\":\"#EBF0F8\"},\"line\":{\"color\":\"white\"}},\"header\":{\"fill\":{\"color\":\"#C8D4E3\"},\"line\":{\"color\":\"white\"}},\"type\":\"table\"}]},\"layout\":{\"annotationdefaults\":{\"arrowcolor\":\"#2a3f5f\",\"arrowhead\":0,\"arrowwidth\":1},\"autotypenumbers\":\"strict\",\"coloraxis\":{\"colorbar\":{\"outlinewidth\":0,\"ticks\":\"\"}},\"colorscale\":{\"diverging\":[[0,\"#8e0152\"],[0.1,\"#c51b7d\"],[0.2,\"#de77ae\"],[0.3,\"#f1b6da\"],[0.4,\"#fde0ef\"],[0.5,\"#f7f7f7\"],[0.6,\"#e6f5d0\"],[0.7,\"#b8e186\"],[0.8,\"#7fbc41\"],[0.9,\"#4d9221\"],[1,\"#276419\"]],\"sequential\":[[0.0,\"#0d0887\"],[0.1111111111111111,\"#46039f\"],[0.2222222222222222,\"#7201a8\"],[0.3333333333333333,\"#9c179e\"],[0.4444444444444444,\"#bd3786\"],[0.5555555555555556,\"#d8576b\"],[0.6666666666666666,\"#ed7953\"],[0.7777777777777778,\"#fb9f3a\"],[0.8888888888888888,\"#fdca26\"],[1.0,\"#f0f921\"]],\"sequentialminus\":[[0.0,\"#0d0887\"],[0.1111111111111111,\"#46039f\"],[0.2222222222222222,\"#7201a8\"],[0.3333333333333333,\"#9c179e\"],[0.4444444444444444,\"#bd3786\"],[0.5555555555555556,\"#d8576b\"],[0.6666666666666666,\"#ed7953\"],[0.7777777777777778,\"#fb9f3a\"],[0.8888888888888888,\"#fdca26\"],[1.0,\"#f0f921\"]]},\"colorway\":[\"#636efa\",\"#EF553B\",\"#00cc96\",\"#ab63fa\",\"#FFA15A\",\"#19d3f3\",\"#FF6692\",\"#B6E880\",\"#FF97FF\",\"#FECB52\"],\"font\":{\"color\":\"#2a3f5f\"},\"geo\":{\"bgcolor\":\"white\",\"lakecolor\":\"white\",\"landcolor\":\"#E5ECF6\",\"showlakes\":true,\"showland\":true,\"subunitcolor\":\"white\"},\"hoverlabel\":{\"align\":\"left\"},\"hovermode\":\"closest\",\"mapbox\":{\"style\":\"light\"},\"paper_bgcolor\":\"white\",\"plot_bgcolor\":\"#E5ECF6\",\"polar\":{\"angularaxis\":{\"gridcolor\":\"white\",\"linecolor\":\"white\",\"ticks\":\"\"},\"bgcolor\":\"#E5ECF6\",\"radialaxis\":{\"gridcolor\":\"white\",\"linecolor\":\"white\",\"ticks\":\"\"}},\"scene\":{\"xaxis\":{\"backgroundcolor\":\"#E5ECF6\",\"gridcolor\":\"white\",\"gridwidth\":2,\"linecolor\":\"white\",\"showbackground\":true,\"ticks\":\"\",\"zerolinecolor\":\"white\"},\"yaxis\":{\"backgroundcolor\":\"#E5ECF6\",\"gridcolor\":\"white\",\"gridwidth\":2,\"linecolor\":\"white\",\"showbackground\":true,\"ticks\":\"\",\"zerolinecolor\":\"white\"},\"zaxis\":{\"backgroundcolor\":\"#E5ECF6\",\"gridcolor\":\"white\",\"gridwidth\":2,\"linecolor\":\"white\",\"showbackground\":true,\"ticks\":\"\",\"zerolinecolor\":\"white\"}},\"shapedefaults\":{\"line\":{\"color\":\"#2a3f5f\"}},\"ternary\":{\"aaxis\":{\"gridcolor\":\"white\",\"linecolor\":\"white\",\"ticks\":\"\"},\"baxis\":{\"gridcolor\":\"white\",\"linecolor\":\"white\",\"ticks\":\"\"},\"bgcolor\":\"#E5ECF6\",\"caxis\":{\"gridcolor\":\"white\",\"linecolor\":\"white\",\"ticks\":\"\"}},\"title\":{\"x\":0.05},\"xaxis\":{\"automargin\":true,\"gridcolor\":\"white\",\"linecolor\":\"white\",\"ticks\":\"\",\"title\":{\"standoff\":15},\"zerolinecolor\":\"white\",\"zerolinewidth\":2},\"yaxis\":{\"automargin\":true,\"gridcolor\":\"white\",\"linecolor\":\"white\",\"ticks\":\"\",\"title\":{\"standoff\":15},\"zerolinecolor\":\"white\",\"zerolinewidth\":2}}},\"xaxis\":{\"anchor\":\"y\",\"domain\":[0.0,1.0],\"title\":{\"text\":\"spc_common\"}},\"yaxis\":{\"anchor\":\"x\",\"domain\":[0.0,1.0],\"title\":{\"text\":\"count\"}},\"legend\":{\"title\":{\"text\":\"steward\"},\"tracegroupgap\":0},\"margin\":{\"t\":60},\"barmode\":\"relative\"},                        {\"responsive\": true}                    ).then(function(){\n",
              "                            \n",
              "var gd = document.getElementById('6f8cbe7c-1564-4e37-8181-706a52a57f95');\n",
              "var x = new MutationObserver(function (mutations, observer) {{\n",
              "        var display = window.getComputedStyle(gd).display;\n",
              "        if (!display || display === 'none') {{\n",
              "            console.log([gd, 'removed!']);\n",
              "            Plotly.purge(gd);\n",
              "            observer.disconnect();\n",
              "        }}\n",
              "}});\n",
              "\n",
              "// Listen for the removal of the full notebook cells\n",
              "var notebookContainer = gd.closest('#notebook-container');\n",
              "if (notebookContainer) {{\n",
              "    x.observe(notebookContainer, {childList: true});\n",
              "}}\n",
              "\n",
              "// Listen for the clearing of the current output cell\n",
              "var outputEl = gd.closest('.output');\n",
              "if (outputEl) {{\n",
              "    x.observe(outputEl, {childList: true});\n",
              "}}\n",
              "\n",
              "                        })                };                            </script>        </div>\n",
              "</body>\n",
              "</html>"
            ]
          },
          "metadata": {}
        }
      ]
    }
  ]
}